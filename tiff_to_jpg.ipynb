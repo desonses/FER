{
 "cells": [
  {
   "cell_type": "code",
   "execution_count": 1,
   "metadata": {},
   "outputs": [],
   "source": [
    "import os\n",
    "import sys\n",
    "import glob\n",
    "import imghdr\n",
    "from PIL import Image\n"
   ]
  },
  {
   "cell_type": "code",
   "execution_count": null,
   "metadata": {},
   "outputs": [],
   "source": [
    "\n",
    "\n",
    "def change_format_image(path, image_original = None, image_result=None):\n",
    "    \"\"\"\n",
    "    path: root directory\n",
    "    image_original: format of input image\n",
    "    image_result: format of output image\n",
    "    \"\"\"\n",
    "    if not os.path.isdir(path):\n",
    "        raise Exception(\"Invalid directory\")\n",
    "    \n",
    "    if image_original is None:\n",
    "        raise Exception (\"Input format\")\n",
    "    \n",
    "    if image_result is None:\n",
    "        raise Exception (\"Output format\")\n",
    "        \n",
    "    # New Directory  \n",
    "    directory = \"OutputFile/\"\n",
    "    new_path = os.path.join(path, directory)\n",
    "    \n",
    "    for root, dirs, files in os.walk(path, topdown=False):\n",
    "        for name in files:\n",
    "            \n",
    "            if imghdr.what(name) == str(image_original).lower():\n",
    "                if (os.path.splitext(os.path.join(root, name))[0]\n",
    "                    + image_result):\n",
    "                    \n",
    "                    try:\n",
    "                        # if not exist\n",
    "                        if not os.path.isdir(new_path):\n",
    "                            os.mkdir(new_path)\n",
    "                            \n",
    "                        original = path + name\n",
    "                        outfile = os.path.splitext(os.path.join(new_path, name))[0]\n",
    "                        + '.' + image_result.lower()\n",
    "                        Image.open(original).convert('RGB').save(outfile)\n",
    "                    \n",
    "                    except Exception:\n",
    "                        raise (\"An error has ocurred when trying save the image to new format\")\n",
    "                        "
   ]
  },
  {
   "cell_type": "code",
   "execution_count": null,
   "metadata": {},
   "outputs": [],
   "source": [
    "path = 'C:/Users/virus/source/repos/FER/prueba/'\n",
    "\n",
    "change_format_image(path, image_original='tiff',image_result='jpg')"
   ]
  },
  {
   "cell_type": "code",
   "execution_count": null,
   "metadata": {},
   "outputs": [],
   "source": []
  },
  {
   "cell_type": "code",
   "execution_count": 252,
   "metadata": {},
   "outputs": [],
   "source": [
    "def get_folder(string1, string2):\n",
    "    \n",
    "    if string1 == string2:\n",
    "        return None\n",
    "        \n",
    "    if  len(string1) < len(string2):\n",
    "        return string2[len(string1):]\n",
    "    \n",
    "    else:\n",
    "        return string1[len(string2):]\n",
    "\n",
    "    \n",
    "    \n",
    "    \n",
    "def face_alingment(path):\n",
    "    \n",
    "    if not os.path.isdir(path):\n",
    "        raise Exception(\"Invalid directory\")\n",
    "    \n",
    "    \n",
    "    # New Directory  \n",
    "    directory = \"Outputfile/\"\n",
    "    new_path = os.path.join(path, directory)\n",
    "    \n",
    "    # create folder in new_path\n",
    "    #if not os.path.isdir(new_path):\n",
    "     #   os.mkdir(new_path)\n",
    "    \n",
    "\n",
    "    for root, dirs, files in os.walk(path, topdown=False):\n",
    "        \n",
    "        folder = get_folder(root, path)\n",
    "        if folder is not None:\n",
    "            \n",
    "            new_folder = os.path.join(new_path, folder)\n",
    "            if not os.path.isdir(new_path):\n",
    "                os.mkdir(new_path)\n",
    "        \n",
    "            if not os.path.isdir(new_folder):\n",
    "                print(new_folder)\n",
    "                os.mkdir(new_folder)\n",
    "        #for name in files:\n",
    "           \n",
    "         #   original = os.path.join(root+'/', name)\n",
    "          #  print(original)\n",
    "            \n",
    "            \n",
    "            # create folder in new_path\n",
    "       #     if not os.path.isdir(new_path):\n",
    "        #        os.mkdir(new_path)\n",
    "            \n",
    "            # save into new directory\n",
    "         #   new = os.path.join(new_path, name)\n",
    "          #  print(new)\n",
    "        \n",
    "        \n",
    "        \n",
    "        \n",
    "        \n",
    "\n",
    "            \n",
    "    \n",
    "    "
   ]
  },
  {
   "cell_type": "code",
   "execution_count": 253,
   "metadata": {},
   "outputs": [
    {
     "name": "stdout",
     "output_type": "stream",
     "text": [
      "C:/Users/virus/source/repos/FER/datasets/CK+48/Outputfile/anger\n",
      "C:/Users/virus/source/repos/FER/datasets/CK+48/Outputfile/contempt\n",
      "C:/Users/virus/source/repos/FER/datasets/CK+48/Outputfile/disgust\n",
      "C:/Users/virus/source/repos/FER/datasets/CK+48/Outputfile/fear\n",
      "C:/Users/virus/source/repos/FER/datasets/CK+48/Outputfile/happy\n",
      "C:/Users/virus/source/repos/FER/datasets/CK+48/Outputfile/sadness\n",
      "C:/Users/virus/source/repos/FER/datasets/CK+48/Outputfile/surprise\n"
     ]
    }
   ],
   "source": [
    "set_path = 'C:/Users/virus/source/repos/FER/datasets/CK+48/'\n",
    "\n",
    "face_alingment(set_path)"
   ]
  },
  {
   "cell_type": "code",
   "execution_count": 24,
   "metadata": {
    "scrolled": true
   },
   "outputs": [],
   "source": [
    "\n"
   ]
  },
  {
   "cell_type": "code",
   "execution_count": null,
   "metadata": {},
   "outputs": [],
   "source": []
  },
  {
   "cell_type": "markdown",
   "metadata": {},
   "source": [
    "# DATA NORMALIZATION | z-score"
   ]
  },
  {
   "cell_type": "code",
   "execution_count": 88,
   "metadata": {},
   "outputs": [
    {
     "name": "stdout",
     "output_type": "stream",
     "text": [
      "computing std, mean...left 1118\n",
      "computing std, mean...left 1018\n",
      "computing std, mean...left 918\n",
      "computing std, mean...left 818\n",
      "computing std, mean...left 718\n",
      "computing std, mean...left 618\n",
      "computing std, mean...left 518\n",
      "computing std, mean...left 418\n",
      "computing std, mean...left 318\n",
      "computing std, mean...left 218\n",
      "computing std, mean...left 118\n",
      "computing std, mean...left 18\n",
      "\n",
      "mean gral: 126.28778215950788\n",
      "std gral: 2.6452071285228773\n",
      "\n",
      "z score nomalization, left...1218\n",
      "z score nomalization, left...1118\n",
      "z score nomalization, left...1018\n",
      "z score nomalization, left...918\n",
      "z score nomalization, left...818\n",
      "z score nomalization, left...718\n",
      "z score nomalization, left...618\n",
      "z score nomalization, left...518\n",
      "z score nomalization, left...418\n",
      "z score nomalization, left...318\n",
      "z score nomalization, left...218\n",
      "z score nomalization, left...118\n",
      "z score nomalization, left...18\n",
      "finished...\n"
     ]
    }
   ],
   "source": [
    "import numpy as np\n",
    "from PIL import Image\n",
    "from numpy import asarray\n",
    "from scipy import stats\n",
    "\n",
    "def mean_std_by(image):\n",
    "    \n",
    "    image = Image.open(image)\n",
    "    pixels = asarray(image)\n",
    "    \n",
    "    mean = np.mean(pixels.flatten(), dtype=np.float64)\n",
    "    std = np.std(pixels.flatten(), dtype=np.float64)\n",
    "    \n",
    "    return mean, std\n",
    "    \n",
    "def read_images(path):\n",
    "\n",
    "    if not os.path.isdir(path):\n",
    "        raise Exception(\"Invalid directory...\")\n",
    "        \n",
    "    \n",
    "    directory = \"Histogram/\"\n",
    "    new_path = os.path.join(path, directory)\n",
    "    \n",
    "    means = []\n",
    "    stds = []\n",
    "    \n",
    "    for root, dirs, files in os.walk(path, topdown=False):\n",
    "\n",
    "        for i, name in enumerate(files, 1):\n",
    "            original = os.path.join(root, name)\n",
    "\n",
    "            mean, std = mean_std_by(original)\n",
    "            means.append(mean)\n",
    "            stds.append(std)\n",
    "            if i % 100 == 0:\n",
    "                print(\"computing std, mean...left {}\".format(len(files) - i))\n",
    "            \n",
    "    mean_gral = np.mean(np.asarray(means))\n",
    "    std_gral = np.std(np.asarray(stds))\n",
    "    \n",
    "    return mean_gral, std_gral\n",
    "    \n",
    "    \n",
    "    \n",
    "def zscore(origin, final, mean, std):\n",
    "    \n",
    "    image = Image.open(origin)\n",
    "    pixels = asarray(image)\n",
    "\n",
    "    pixels = (pixels - mean) /  std\n",
    "    \n",
    "    im = Image.fromarray(np.float64(pixels))\n",
    "\n",
    "    im.convert('L').save(final)\n",
    "    \n",
    "    \n",
    "def zscore_normalization(path):\n",
    "    \n",
    "    \n",
    "    if not os.path.isdir(path):\n",
    "        raise Exception(\"Invalid directory\")\n",
    "    \n",
    "    \n",
    "    # New Directory  \n",
    "    directory = \"ZscoreOutput/\"\n",
    "    new_path = os.path.join(path, directory)\n",
    "    \n",
    "    if not os.path.isdir(new_path):\n",
    "        os.mkdir(new_path)\n",
    "    \n",
    "    # compute mean and std for all images\n",
    "    mean, std = read_images(path)\n",
    "    print(\"\")\n",
    "    print(\"mean gral: {}\\nstd gral: {}\".format(mean, std))\n",
    "    print(\"\")\n",
    "    \n",
    "    for root, dirs, files in os.walk(path, topdown=False):\n",
    "\n",
    "        for i, file in enumerate(files):\n",
    "            original = os.path.join(root, file)\n",
    "            \n",
    "            new_folder = os.path.join(new_path, file)\n",
    "            \n",
    "            zscore(original, new_folder, mean, std)\n",
    "            if i%100 == 0:\n",
    "                print(\"z score nomalization, left...{}\".format(len(files) - i))\n",
    "\n",
    "    print(\"finished...\")\n",
    "    \n",
    "if __name__ == '__main__':\n",
    "    # folder with all images\n",
    "    dir_image = 'C:/Users/virus/source/repos/DATASETS/CK+/Histogram/'\n",
    "    \n",
    "    # apply zscore normalization after histogram equalization was applied\n",
    "    zscore_normalization(dir_image)\n",
    "    \n",
    "    \n",
    "    \n",
    "    \n",
    "    \n",
    "    "
   ]
  },
  {
   "cell_type": "code",
   "execution_count": 28,
   "metadata": {},
   "outputs": [],
   "source": [
    "\n",
    "\n",
    "#mean gral: 117.9951938948301\n",
    "#std gral: 9.114636153038024\n",
    "\n",
    "\n",
    "\n",
    "\n",
    "#mean gral: 113.84889976249121\n",
    "#std gral: 8.53443628163184\n",
    "\n",
    "\n",
    "\n",
    "# histogram\n",
    "# 126.28778215950788\n",
    "# 2.6452071285228773"
   ]
  },
  {
   "cell_type": "code",
   "execution_count": 15,
   "metadata": {},
   "outputs": [],
   "source": [
    "  \n",
    "def zscore(origin, final):\n",
    "    \n",
    "    image = Image.open(origin)\n",
    "    pixels = asarray(image)\n",
    "\n",
    "    print(pixels)\n",
    "    print('dim image: {}'.format(pixels.shape))\n",
    "    print('Min: %.3f, Max: %.3f' % (pixels.min(), pixels.max()))\n",
    "\n",
    "    pixels = (pixels - 126.28778215950788) /  2.6452071285228773#- 113.84889976249121\n",
    "\n",
    "    #pixels = pixels / 2.6452071285228773 #/ 8.53443\n",
    "    print(\"\\n\\n\")\n",
    "    print(pixels)\n",
    "    im = Image.fromarray(np.float64(pixels))\n",
    "\n",
    "    im.convert('L').save(final)\n",
    "\n"
   ]
  },
  {
   "cell_type": "code",
   "execution_count": 17,
   "metadata": {},
   "outputs": [
    {
     "name": "stdout",
     "output_type": "stream",
     "text": [
      "[[117 209 224 ...   0   0   0]\n",
      " [ 72 202 224 ...   0   0   0]\n",
      " [  0   4   9 ...   0   0   0]\n",
      " ...\n",
      " [ 48  48  47 ... 233 238 245]\n",
      " [ 43  44  46 ... 226 237 243]\n",
      " [  0   0   4 ...   0   0  12]]\n",
      "dim image: (490, 640)\n",
      "Min: 0.000, Max: 255.000\n",
      "\n",
      "\n",
      "\n",
      "[[ -3.51117387  31.26871123  36.93934467 ... -47.74211471 -47.74211471\n",
      "  -47.74211471]\n",
      " [-20.52307419  28.62241562  36.93934467 ... -47.74211471 -47.74211471\n",
      "  -47.74211471]\n",
      " [-47.74211471 -46.22994579 -44.33973464 ... -47.74211471 -47.74211471\n",
      "  -47.74211471]\n",
      " ...\n",
      " [-29.5960877  -29.5960877  -29.97412993 ...  40.34172473  42.23193588\n",
      "   44.87823149]\n",
      " [-31.48629885 -31.10825662 -30.35217216 ...  37.69542913  41.85389365\n",
      "   44.12214703]\n",
      " [-47.74211471 -47.74211471 -46.22994579 ... -47.74211471 -47.74211471\n",
      "  -43.20560796]]\n"
     ]
    }
   ],
   "source": [
    "\n",
    "origin = 'C:/Users/virus/source/repos/DATASETS/PRUEBA/79.png'\n",
    "final = 'C:/Users/virus/source/repos/DATASETS/PRUEBA/79_zscore.png'\n",
    "\n",
    "zscore(origin, final)"
   ]
  },
  {
   "cell_type": "code",
   "execution_count": 104,
   "metadata": {},
   "outputs": [
    {
     "name": "stdout",
     "output_type": "stream",
     "text": [
      "[[ 57 193 212 ...   0   0   4]\n",
      " [ 68 204 226 ...   0   0   4]\n",
      " [  0   0   0 ...   0   0   0]\n",
      " ...\n",
      " [ 52  52  52 ... 233 239 255]\n",
      " [ 48  48  48 ... 226 236 241]\n",
      " [  4   4   4 ...   0   0  13]]\n",
      "dim image: (490, 640)\n",
      "Min: 0.000, Max: 255.000\n",
      "\n",
      "\n",
      "\n",
      "[[-26.19370764  25.22003556  32.40283792 ... -47.74211471 -47.74211471\n",
      "  -46.22994579]\n",
      " [-22.03524311  29.37850008  37.69542913 ... -47.74211471 -47.74211471\n",
      "  -46.22994579]\n",
      " [-47.74211471 -47.74211471 -47.74211471 ... -47.74211471 -47.74211471\n",
      "  -47.74211471]\n",
      " ...\n",
      " [-28.08391878 -28.08391878 -28.08391878 ...  40.34172473  42.60997811\n",
      "   48.65865378]\n",
      " [-29.5960877  -29.5960877  -29.5960877  ...  37.69542913  41.47585142\n",
      "   43.36606257]\n",
      " [-46.22994579 -46.22994579 -46.22994579 ... -47.74211471 -47.74211471\n",
      "  -42.82756573]]\n"
     ]
    }
   ],
   "source": [
    "origin = 'C:/Users/virus/source/repos/DATASETS/PRUEBA/80.png'\n",
    "final = 'C:/Users/virus/source/repos/DATASETS/PRUEBA/80_zscore.png'\n",
    "\n",
    "zscore(origin, final)"
   ]
  },
  {
   "cell_type": "code",
   "execution_count": 105,
   "metadata": {},
   "outputs": [
    {
     "name": "stdout",
     "output_type": "stream",
     "text": [
      "[[ 71 204 225 ...   0   0   0]\n",
      " [ 91 204 221 ...   0   0   0]\n",
      " [  0  16   0 ...   0   0   0]\n",
      " ...\n",
      " [ 52  51  50 ... 233 238 255]\n",
      " [ 50  50  50 ... 235 239 241]\n",
      " [  4   4   4 ...   0   0   4]]\n",
      "dim image: (490, 640)\n",
      "Min: 0.000, Max: 255.000\n",
      "\n",
      "\n",
      "\n",
      "[[-20.90111642  29.37850008  37.3173869  ... -47.74211471 -47.74211471\n",
      "  -47.74211471]\n",
      " [-13.34027184  29.37850008  35.80521798 ... -47.74211471 -47.74211471\n",
      "  -47.74211471]\n",
      " [-47.74211471 -41.69343904 -47.74211471 ... -47.74211471 -47.74211471\n",
      "  -47.74211471]\n",
      " ...\n",
      " [-28.08391878 -28.46196101 -28.84000324 ...  40.34172473  42.23193588\n",
      "   48.65865378]\n",
      " [-28.84000324 -28.84000324 -28.84000324 ...  41.09780919  42.60997811\n",
      "   43.36606257]\n",
      " [-46.22994579 -46.22994579 -46.22994579 ... -47.74211471 -47.74211471\n",
      "  -46.22994579]]\n"
     ]
    }
   ],
   "source": [
    "origin = 'C:/Users/virus/source/repos/DATASETS/PRUEBA/81.png'\n",
    "final = 'C:/Users/virus/source/repos/DATASETS/PRUEBA/81_zscore.png'\n",
    "\n",
    "zscore(origin, final)"
   ]
  },
  {
   "cell_type": "code",
   "execution_count": 106,
   "metadata": {},
   "outputs": [
    {
     "name": "stdout",
     "output_type": "stream",
     "text": [
      "[[ 53 178 215 ...   0   0   0]\n",
      " [ 47 154 216 ...   0   0   0]\n",
      " [  9   9   0 ...   0   0   0]\n",
      " ...\n",
      " [ 47  48  49 ... 234 239 255]\n",
      " [ 45  46  46 ... 234 239 255]\n",
      " [  4   4   4 ...   0   0   4]]\n",
      "dim image: (490, 640)\n",
      "Min: 0.000, Max: 255.000\n",
      "\n",
      "\n",
      "\n",
      "[[-27.70587655  19.54940212  33.5369646  ... -47.74211471 -47.74211471\n",
      "  -47.74211471]\n",
      " [-29.97412993  10.47638861  33.91500683 ... -47.74211471 -47.74211471\n",
      "  -47.74211471]\n",
      " [-44.33973464 -44.33973464 -47.74211471 ... -47.74211471 -47.74211471\n",
      "  -47.74211471]\n",
      " ...\n",
      " [-29.97412993 -29.5960877  -29.21804547 ...  40.71976696  42.60997811\n",
      "   48.65865378]\n",
      " [-30.73021439 -30.35217216 -30.35217216 ...  40.71976696  42.60997811\n",
      "   48.65865378]\n",
      " [-46.22994579 -46.22994579 -46.22994579 ... -47.74211471 -47.74211471\n",
      "  -46.22994579]]\n"
     ]
    }
   ],
   "source": [
    "origin = 'C:/Users/virus/source/repos/DATASETS/PRUEBA/82.png'\n",
    "final = 'C:/Users/virus/source/repos/DATASETS/PRUEBA/82_zscore.png'\n",
    "\n",
    "zscore(origin, final)"
   ]
  },
  {
   "cell_type": "code",
   "execution_count": 107,
   "metadata": {},
   "outputs": [
    {
     "name": "stdout",
     "output_type": "stream",
     "text": [
      "[[ 55 195 217 ...   0   0   0]\n",
      " [ 57 190 213 ...   0   0   0]\n",
      " [  7  16   0 ...   0   0   0]\n",
      " ...\n",
      " [ 53  52  51 ... 237 240 255]\n",
      " [ 50  50  50 ... 234 239 255]\n",
      " [  0   0   0 ...   0   0   0]]\n",
      "dim image: (490, 640)\n",
      "Min: 0.000, Max: 255.000\n",
      "\n",
      "\n",
      "\n",
      "[[-26.94979209  25.97612002  34.29304906 ... -47.74211471 -47.74211471\n",
      "  -47.74211471]\n",
      " [-26.19370764  24.08590887  32.78088015 ... -47.74211471 -47.74211471\n",
      "  -47.74211471]\n",
      " [-45.0958191  -41.69343904 -47.74211471 ... -47.74211471 -47.74211471\n",
      "  -47.74211471]\n",
      " ...\n",
      " [-27.70587655 -28.08391878 -28.46196101 ...  41.85389365  42.98802034\n",
      "   48.65865378]\n",
      " [-28.84000324 -28.84000324 -28.84000324 ...  40.71976696  42.60997811\n",
      "   48.65865378]\n",
      " [-47.74211471 -47.74211471 -47.74211471 ... -47.74211471 -47.74211471\n",
      "  -47.74211471]]\n"
     ]
    }
   ],
   "source": [
    "origin = 'C:/Users/virus/source/repos/DATASETS/PRUEBA/83.png'\n",
    "final = 'C:/Users/virus/source/repos/DATASETS/PRUEBA/83_zscore.png'\n",
    "\n",
    "zscore(origin, final)"
   ]
  },
  {
   "cell_type": "code",
   "execution_count": 108,
   "metadata": {},
   "outputs": [
    {
     "name": "stdout",
     "output_type": "stream",
     "text": [
      "[[ 58 198 220 ...   0   0   0]\n",
      " [ 66 200 222 ...   0   0   0]\n",
      " [  0   4   0 ...   0   0   0]\n",
      " ...\n",
      " [ 46  47  47 ... 236 243 255]\n",
      " [ 50  50  50 ... 235 240 255]\n",
      " [  4   4   4 ...   0   4   7]]\n",
      "dim image: (490, 640)\n",
      "Min: 0.000, Max: 255.000\n",
      "\n",
      "\n",
      "\n",
      "[[-25.81566541  27.11024671  35.42717575 ... -47.74211471 -47.74211471\n",
      "  -47.74211471]\n",
      " [-22.79132757  27.86633116  36.18326021 ... -47.74211471 -47.74211471\n",
      "  -47.74211471]\n",
      " [-47.74211471 -46.22994579 -47.74211471 ... -47.74211471 -47.74211471\n",
      "  -47.74211471]\n",
      " ...\n",
      " [-30.35217216 -29.97412993 -29.97412993 ...  41.47585142  44.12214703\n",
      "   48.65865378]\n",
      " [-28.84000324 -28.84000324 -28.84000324 ...  41.09780919  42.98802034\n",
      "   48.65865378]\n",
      " [-46.22994579 -46.22994579 -46.22994579 ... -47.74211471 -46.22994579\n",
      "  -45.0958191 ]]\n"
     ]
    }
   ],
   "source": [
    "origin = 'C:/Users/virus/source/repos/DATASETS/PRUEBA/84.png'\n",
    "final = 'C:/Users/virus/source/repos/DATASETS/PRUEBA/84_zscore.png'\n",
    "\n",
    "zscore(origin, final)"
   ]
  },
  {
   "cell_type": "code",
   "execution_count": 24,
   "metadata": {},
   "outputs": [],
   "source": []
  },
  {
   "cell_type": "code",
   "execution_count": 43,
   "metadata": {},
   "outputs": [
    {
     "data": {
      "text/plain": [
       "array([[ 0,  1,  2,  3],\n",
       "       [ 4,  5,  6,  7],\n",
       "       [ 8,  9, 10, 11]])"
      ]
     },
     "execution_count": 43,
     "metadata": {},
     "output_type": "execute_result"
    }
   ],
   "source": [
    "matrix = [[ 0,  1,  2,  3],\n",
    "        [ 4,  5,  6,  7],\n",
    "        [ 8,  9, 10, 11]]\n",
    "\n",
    "matrix = np.asarray(matrix)\n",
    "\n",
    "matrix"
   ]
  },
  {
   "cell_type": "code",
   "execution_count": 126,
   "metadata": {},
   "outputs": [],
   "source": [
    "points = [(199, 235), # 36\n",
    "          (209, 229), # 37\n",
    "          (221, 228), # 38\n",
    "          (234, 235), # 39\n",
    "          (222, 238), # 40\n",
    "          (209, 239), # 41\n",
    "          (281, 232), # 42\n",
    "          (292, 224), # 43\n",
    "          (305, 223), # 44\n",
    "          (316, 228), # 45\n",
    "          (306, 233), # 46\n",
    "          (294, 234)] # 47\n",
    "\n",
    "\n",
    "#           (x , y)\n",
    "left = [  (199, 235), # 36\n",
    "          (209, 229), # 37\n",
    "          (221, 228), # 38\n",
    "          (234, 235), # 39\n",
    "          (222, 238), # 40\n",
    "          (209, 239)] # 41\n",
    "\n",
    "#           (x , y)\n",
    "right = [ (281, 232), # 42\n",
    "          (292, 224), # 43\n",
    "          (305, 223), # 44\n",
    "          (316, 228), # 45\n",
    "          (306, 233), # 46\n",
    "          (294, 234)] # 47"
   ]
  },
  {
   "cell_type": "code",
   "execution_count": 135,
   "metadata": {},
   "outputs": [
    {
     "data": {
      "text/plain": [
       "array([281, 292, 305, 316, 306, 294])"
      ]
     },
     "execution_count": 135,
     "metadata": {},
     "output_type": "execute_result"
    }
   ],
   "source": [
    "val = np.asarray(right)\n",
    "val[:,0]"
   ]
  },
  {
   "cell_type": "code",
   "execution_count": 136,
   "metadata": {},
   "outputs": [
    {
     "data": {
      "text/plain": [
       "1794"
      ]
     },
     "execution_count": 136,
     "metadata": {},
     "output_type": "execute_result"
    }
   ],
   "source": [
    "np.sum(val[:,0])"
   ]
  },
  {
   "cell_type": "code",
   "execution_count": 141,
   "metadata": {},
   "outputs": [
    {
     "name": "stdout",
     "output_type": "stream",
     "text": [
      "angle2 = -0.05992815512120788\n"
     ]
    }
   ],
   "source": [
    "import math \n",
    "\n",
    "\n",
    "def compute_angle(left, right):\n",
    "    \n",
    "    # as array, much more fast\n",
    "    aux_left = np.asarray(left)  \n",
    "    aux_right = np.asarray(right)\n",
    "    \n",
    "    # compute numerator\n",
    "    asum_x = np.sum(aux_right[:,1]) # point 42 to 47 => 'y'\n",
    "    asum_y = np.sum(aux_left[:,1])  # point 36 to 41 => 'y'\n",
    "    \n",
    "    numerador_aux = asum_x - asum_y\n",
    "    \n",
    "    # compute denominator\n",
    "    asum2_x = np.sum(aux_right[:,0]) # point 42 to 47 => 'x'\n",
    "    asum2_y = np.sum(aux_left[:,0])  # point 36 to 41 => 'x'\n",
    "    \n",
    "    denominador_aux = asum2_x - asum2_y\n",
    "    \n",
    "    # compute angle=arctan(x)\n",
    "    angle2 = np.arctan(numerador_aux / denominador_aux)\n",
    "    \n",
    "    ########################################\n",
    "    ########################################\n",
    "    ########################################\n",
    "    #sum_x = sum([cord[1] for cord in right])\n",
    "    #sum_y = sum([cord[1] for cord in left])\n",
    "    \n",
    "    #numerador = sum_x - sum_y\n",
    "    \n",
    "    #sum2_x = sum([cord[0] for cord in right])\n",
    "    #sum2_y = sum([cord[0] for cord in left])\n",
    "    \n",
    "    #denominador = sum2_x - sum2_y\n",
    "    \n",
    "    #angle = math.atan(numerador / denominador)\n",
    "    \n",
    "    print(\"angle2 = {}\".format(angle2))\n",
    "\n",
    "\n",
    "\n",
    "compute_angle(left, right)"
   ]
  },
  {
   "cell_type": "code",
   "execution_count": 143,
   "metadata": {},
   "outputs": [],
   "source": [
    "from PIL import Image, ImageDraw\n",
    "\n",
    "\n",
    "im = Image.open(\"C:/Users/virus/source/repos/DATASETS/PRUEBA/landmarck/rotate1.png\").convert('RGB')\n",
    "draw = ImageDraw.Draw(im)\n",
    "\n",
    "draw.point(points, fill='red')\n",
    "\n",
    "im.show()"
   ]
  },
  {
   "cell_type": "code",
   "execution_count": null,
   "metadata": {},
   "outputs": [],
   "source": []
  },
  {
   "cell_type": "code",
   "execution_count": null,
   "metadata": {},
   "outputs": [],
   "source": []
  },
  {
   "cell_type": "code",
   "execution_count": null,
   "metadata": {},
   "outputs": [],
   "source": []
  },
  {
   "cell_type": "code",
   "execution_count": null,
   "metadata": {},
   "outputs": [],
   "source": []
  }
 ],
 "metadata": {
  "kernelspec": {
   "display_name": "Python 3",
   "language": "python",
   "name": "python3"
  },
  "language_info": {
   "codemirror_mode": {
    "name": "ipython",
    "version": 3
   },
   "file_extension": ".py",
   "mimetype": "text/x-python",
   "name": "python",
   "nbconvert_exporter": "python",
   "pygments_lexer": "ipython3",
   "version": "3.6.5"
  }
 },
 "nbformat": 4,
 "nbformat_minor": 2
}
