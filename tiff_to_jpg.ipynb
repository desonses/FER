{
 "cells": [
  {
   "cell_type": "code",
   "execution_count": 1,
   "metadata": {},
   "outputs": [],
   "source": [
    "import os\n",
    "import glob\n",
    "import imghdr\n",
    "from PIL import Image\n",
    "\n"
   ]
  },
  {
   "cell_type": "code",
   "execution_count": null,
   "metadata": {},
   "outputs": [],
   "source": [
    "\n",
    "\n",
    "def change_format_image(path, image_original = None, image_result=None):\n",
    "    \"\"\"\n",
    "    path: root directory\n",
    "    image_original: format of input image\n",
    "    image_result: format of output image\n",
    "    \"\"\"\n",
    "    if not os.path.isdir(path):\n",
    "        raise Exception(\"Invalid directory\")\n",
    "    \n",
    "    if image_original is None:\n",
    "        raise Exception (\"Input format\")\n",
    "    \n",
    "    if image_result is None:\n",
    "        raise Exception (\"Output format\")\n",
    "        \n",
    "    # New Directory  \n",
    "    directory = \"OutputFile/\"\n",
    "    new_path = os.path.join(path, directory)\n",
    "    \n",
    "    for root, dirs, files in os.walk(path, topdown=False):\n",
    "        for name in files:\n",
    "            \n",
    "            if imghdr.what(name) == str(image_original).lower():\n",
    "                if (os.path.splitext(os.path.join(root, name))[0]\n",
    "                    + image_result):\n",
    "                    \n",
    "                    try:\n",
    "                        # if not exist\n",
    "                        if not os.path.isdir(new_path):\n",
    "                            os.mkdir(new_path)\n",
    "                            \n",
    "                        original = path + name\n",
    "                        outfile = os.path.splitext(os.path.join(new_path, name))[0]\n",
    "                        + '.' + image_result.lower()\n",
    "                        Image.open(original).convert('RGB').save(outfile)\n",
    "                    \n",
    "                    except Exception:\n",
    "                        raise (\"An error has ocurred when trying save the image to new format\")\n",
    "                        "
   ]
  },
  {
   "cell_type": "code",
   "execution_count": null,
   "metadata": {},
   "outputs": [],
   "source": [
    "path = 'C:/Users/virus/source/repos/FER/prueba/'\n",
    "\n",
    "change_format_image(path, image_original='tiff',image_result='jpg')"
   ]
  },
  {
   "cell_type": "code",
   "execution_count": null,
   "metadata": {},
   "outputs": [],
   "source": []
  },
  {
   "cell_type": "code",
   "execution_count": 252,
   "metadata": {},
   "outputs": [],
   "source": [
    "def get_folder(string1, string2):\n",
    "    \n",
    "    if string1 == string2:\n",
    "        return None\n",
    "        \n",
    "    if  len(string1) < len(string2):\n",
    "        return string2[len(string1):]\n",
    "    \n",
    "    else:\n",
    "        return string1[len(string2):]\n",
    "\n",
    "    \n",
    "    \n",
    "    \n",
    "def face_alingment(path):\n",
    "    \n",
    "    if not os.path.isdir(path):\n",
    "        raise Exception(\"Invalid directory\")\n",
    "    \n",
    "    \n",
    "    # New Directory  \n",
    "    directory = \"Outputfile/\"\n",
    "    new_path = os.path.join(path, directory)\n",
    "    \n",
    "    # create folder in new_path\n",
    "    #if not os.path.isdir(new_path):\n",
    "     #   os.mkdir(new_path)\n",
    "    \n",
    "\n",
    "    for root, dirs, files in os.walk(path, topdown=False):\n",
    "        \n",
    "        folder = get_folder(root, path)\n",
    "        if folder is not None:\n",
    "            \n",
    "            new_folder = os.path.join(new_path, folder)\n",
    "            if not os.path.isdir(new_path):\n",
    "                os.mkdir(new_path)\n",
    "        \n",
    "            if not os.path.isdir(new_folder):\n",
    "                print(new_folder)\n",
    "                os.mkdir(new_folder)\n",
    "        #for name in files:\n",
    "           \n",
    "         #   original = os.path.join(root+'/', name)\n",
    "          #  print(original)\n",
    "            \n",
    "            \n",
    "            # create folder in new_path\n",
    "       #     if not os.path.isdir(new_path):\n",
    "        #        os.mkdir(new_path)\n",
    "            \n",
    "            # save into new directory\n",
    "         #   new = os.path.join(new_path, name)\n",
    "          #  print(new)\n",
    "        \n",
    "        \n",
    "        \n",
    "        \n",
    "        \n",
    "\n",
    "            \n",
    "    \n",
    "    "
   ]
  },
  {
   "cell_type": "code",
   "execution_count": 253,
   "metadata": {},
   "outputs": [
    {
     "name": "stdout",
     "output_type": "stream",
     "text": [
      "C:/Users/virus/source/repos/FER/datasets/CK+48/Outputfile/anger\n",
      "C:/Users/virus/source/repos/FER/datasets/CK+48/Outputfile/contempt\n",
      "C:/Users/virus/source/repos/FER/datasets/CK+48/Outputfile/disgust\n",
      "C:/Users/virus/source/repos/FER/datasets/CK+48/Outputfile/fear\n",
      "C:/Users/virus/source/repos/FER/datasets/CK+48/Outputfile/happy\n",
      "C:/Users/virus/source/repos/FER/datasets/CK+48/Outputfile/sadness\n",
      "C:/Users/virus/source/repos/FER/datasets/CK+48/Outputfile/surprise\n"
     ]
    }
   ],
   "source": [
    "set_path = 'C:/Users/virus/source/repos/FER/datasets/CK+48/'\n",
    "\n",
    "face_alingment(set_path)"
   ]
  },
  {
   "cell_type": "code",
   "execution_count": null,
   "metadata": {},
   "outputs": [],
   "source": []
  },
  {
   "cell_type": "code",
   "execution_count": null,
   "metadata": {},
   "outputs": [],
   "source": []
  },
  {
   "cell_type": "code",
   "execution_count": null,
   "metadata": {},
   "outputs": [],
   "source": []
  },
  {
   "cell_type": "code",
   "execution_count": null,
   "metadata": {},
   "outputs": [],
   "source": []
  },
  {
   "cell_type": "code",
   "execution_count": null,
   "metadata": {},
   "outputs": [],
   "source": []
  },
  {
   "cell_type": "code",
   "execution_count": null,
   "metadata": {},
   "outputs": [],
   "source": []
  },
  {
   "cell_type": "code",
   "execution_count": null,
   "metadata": {},
   "outputs": [],
   "source": []
  },
  {
   "cell_type": "code",
   "execution_count": null,
   "metadata": {},
   "outputs": [],
   "source": []
  },
  {
   "cell_type": "code",
   "execution_count": null,
   "metadata": {},
   "outputs": [],
   "source": []
  }
 ],
 "metadata": {
  "kernelspec": {
   "display_name": "Python 3",
   "language": "python",
   "name": "python3"
  },
  "language_info": {
   "codemirror_mode": {
    "name": "ipython",
    "version": 3
   },
   "file_extension": ".py",
   "mimetype": "text/x-python",
   "name": "python",
   "nbconvert_exporter": "python",
   "pygments_lexer": "ipython3",
   "version": "3.6.5"
  }
 },
 "nbformat": 4,
 "nbformat_minor": 2
}
