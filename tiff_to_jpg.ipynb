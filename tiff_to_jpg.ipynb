{
 "cells": [
  {
   "cell_type": "code",
   "execution_count": 24,
   "metadata": {},
   "outputs": [],
   "source": [
    "import os\n",
    "import sys\n",
    "import glob\n",
    "import imghdr\n",
    "import numpy as np\n",
    "from PIL import Image\n",
    "import matplotlib.pyplot as plt\n"
   ]
  },
  {
   "cell_type": "code",
   "execution_count": 2,
   "metadata": {},
   "outputs": [],
   "source": [
    "\n",
    "\n",
    "def change_format_image(path, image_original = None, image_result=None):\n",
    "    \"\"\"\n",
    "    path: root directory\n",
    "    image_original: format of input image\n",
    "    image_result: format of output image\n",
    "    \"\"\"\n",
    "    if not os.path.isdir(path):\n",
    "        raise Exception(\"Invalid directory\")\n",
    "    \n",
    "    if image_original is None:\n",
    "        raise Exception (\"Input format\")\n",
    "    \n",
    "    if image_result is None:\n",
    "        raise Exception (\"Output format\")\n",
    "        \n",
    "    # New Directory  \n",
    "    directory = \"OutputFile/\"\n",
    "    new_path = os.path.join(path, directory)\n",
    "    \n",
    "    for root, dirs, files in os.walk(path, topdown=False):\n",
    "        for name in files:\n",
    "            \n",
    "            if imghdr.what(name) == str(image_original).lower():\n",
    "                if (os.path.splitext(os.path.join(root, name))[0]\n",
    "                    + image_result):\n",
    "                    \n",
    "                    try:\n",
    "                        # if not exist\n",
    "                        if not os.path.isdir(new_path):\n",
    "                            os.mkdir(new_path)\n",
    "                            \n",
    "                        original = path + name\n",
    "                        outfile = os.path.splitext(os.path.join(new_path, name))[0]\n",
    "                        + '.' + image_result.lower()\n",
    "                        Image.open(original).convert('RGB').save(outfile)\n",
    "                    \n",
    "                    except Exception:\n",
    "                        raise (\"An error has ocurred when trying save the image to new format\")\n",
    "                        "
   ]
  },
  {
   "cell_type": "code",
   "execution_count": 3,
   "metadata": {},
   "outputs": [],
   "source": [
    "path = 'C:/Users/virus/source/repos/FER/prueba/'\n",
    "\n",
    "######change_format_image(path, image_original='tiff',image_result='jpg')"
   ]
  },
  {
   "cell_type": "code",
   "execution_count": null,
   "metadata": {},
   "outputs": [],
   "source": []
  },
  {
   "cell_type": "code",
   "execution_count": 4,
   "metadata": {},
   "outputs": [],
   "source": [
    "def get_folder(string1, string2):\n",
    "    \n",
    "    if string1 == string2:\n",
    "        return None\n",
    "        \n",
    "    if  len(string1) < len(string2):\n",
    "        return string2[len(string1):]\n",
    "    \n",
    "    else:\n",
    "        return string1[len(string2):]\n",
    "\n",
    "    \n",
    "    \n",
    "    \n",
    "def face_alingment(path):\n",
    "    \n",
    "    if not os.path.isdir(path):\n",
    "        raise Exception(\"Invalid directory\")\n",
    "    \n",
    "    \n",
    "    # New Directory  \n",
    "    directory = \"Outputfile/\"\n",
    "    new_path = os.path.join(path, directory)\n",
    "    \n",
    "    # create folder in new_path\n",
    "    #if not os.path.isdir(new_path):\n",
    "     #   os.mkdir(new_path)\n",
    "    \n",
    "\n",
    "    for root, dirs, files in os.walk(path, topdown=False):\n",
    "        \n",
    "        folder = get_folder(root, path)\n",
    "        if folder is not None:\n",
    "            \n",
    "            new_folder = os.path.join(new_path, folder)\n",
    "            if not os.path.isdir(new_path):\n",
    "                os.mkdir(new_path)\n",
    "        \n",
    "            if not os.path.isdir(new_folder):\n",
    "                print(new_folder)\n",
    "                os.mkdir(new_folder)\n",
    "        #for name in files:\n",
    "           \n",
    "         #   original = os.path.join(root+'/', name)\n",
    "          #  print(original)\n",
    "            \n",
    "            \n",
    "            # create folder in new_path\n",
    "       #     if not os.path.isdir(new_path):\n",
    "        #        os.mkdir(new_path)\n",
    "            \n",
    "            # save into new directory\n",
    "         #   new = os.path.join(new_path, name)\n",
    "          #  print(new)\n",
    "        \n",
    "        \n",
    "        \n",
    "        \n",
    "        \n",
    "\n",
    "            \n",
    "    \n",
    "    "
   ]
  },
  {
   "cell_type": "code",
   "execution_count": 5,
   "metadata": {},
   "outputs": [],
   "source": [
    "set_path = 'C:/Users/virus/source/repos/FER/datasets/CK+48/'\n",
    "\n",
    "##########face_alingment(set_path)"
   ]
  },
  {
   "cell_type": "markdown",
   "metadata": {},
   "source": [
    "# DATA NORMALIZATION | z-score"
   ]
  },
  {
   "cell_type": "code",
   "execution_count": 6,
   "metadata": {},
   "outputs": [],
   "source": [
    "import numpy as np\n",
    "from PIL import Image\n",
    "from numpy import asarray\n",
    "from scipy import stats\n",
    "\n",
    "def mean_std_by(image):\n",
    "    \n",
    "    image = Image.open(image)\n",
    "    pixels = asarray(image)\n",
    "    \n",
    "    mean = np.mean(pixels.flatten(), dtype=np.float64)\n",
    "    std = np.std(pixels.flatten(), dtype=np.float64)\n",
    "    \n",
    "    return mean, std\n",
    "    \n",
    "def read_images(path):\n",
    "\n",
    "    if not os.path.isdir(path):\n",
    "        raise Exception(\"Invalid directory...\")\n",
    "        \n",
    "    \n",
    "    directory = \"Histogram/\"\n",
    "    new_path = os.path.join(path, directory)\n",
    "    \n",
    "    means = []\n",
    "    stds = []\n",
    "    \n",
    "    for root, dirs, files in os.walk(path, topdown=False):\n",
    "\n",
    "        for i, name in enumerate(files, 1):\n",
    "            original = os.path.join(root, name)\n",
    "\n",
    "            mean, std = mean_std_by(original)\n",
    "            means.append(mean)\n",
    "            stds.append(std)\n",
    "            if i % 100 == 0:\n",
    "                print(\"computing std, mean...left {}\".format(len(files) - i))\n",
    "            \n",
    "    mean_gral = np.mean(np.asarray(means))\n",
    "    std_gral = np.std(np.asarray(stds))\n",
    "    \n",
    "    return mean_gral, std_gral\n",
    "    \n",
    "    \n",
    "    \n",
    "def zscore(origin, final, mean, std):\n",
    "    \n",
    "    image = Image.open(origin)\n",
    "    pixels = asarray(image)\n",
    "\n",
    "    pixels = (pixels - mean) /  std\n",
    "    \n",
    "    im = Image.fromarray(np.float64(pixels))\n",
    "\n",
    "    im.convert('L').save(final)\n",
    "    \n",
    "    \n",
    "def zscore_normalization(path):\n",
    "    \n",
    "    \n",
    "    if not os.path.isdir(path):\n",
    "        raise Exception(\"Invalid directory\")\n",
    "    \n",
    "    \n",
    "    # New Directory  \n",
    "    directory = \"ZscoreOutput/\"\n",
    "    new_path = os.path.join(path, directory)\n",
    "    \n",
    "    if not os.path.isdir(new_path):\n",
    "        os.mkdir(new_path)\n",
    "    \n",
    "    # compute mean and std for all images\n",
    "    mean, std = read_images(path)\n",
    "    print(\"\")\n",
    "    print(\"mean gral: {}\\nstd gral: {}\".format(mean, std))\n",
    "    print(\"\")\n",
    "    \n",
    "    for root, dirs, files in os.walk(path, topdown=False):\n",
    "\n",
    "        for i, file in enumerate(files):\n",
    "            original = os.path.join(root, file)\n",
    "            \n",
    "            new_folder = os.path.join(new_path, file)\n",
    "            \n",
    "            zscore(original, new_folder, mean, std)\n",
    "            if i%100 == 0:\n",
    "                print(\"z score nomalization, left...{}\".format(len(files) - i))\n",
    "\n",
    "    print(\"finished...\")\n",
    "    \n",
    "if __name__ == '__main__':\n",
    "    # folder with all images\n",
    "    dir_image = 'C:/Users/virus/source/repos/DATASETS/CK+/Histogram/'\n",
    "    \n",
    "    # apply zscore normalization after histogram equalization was applied\n",
    "    ###############zscore_normalization(dir_image)\n",
    "    \n",
    "    \n",
    "    \n",
    "    \n",
    "    \n",
    "    "
   ]
  },
  {
   "cell_type": "code",
   "execution_count": 28,
   "metadata": {},
   "outputs": [],
   "source": [
    "\n",
    "\n",
    "#mean gral: 117.9951938948301\n",
    "#std gral: 9.114636153038024\n",
    "\n",
    "\n",
    "\n",
    "\n",
    "#mean gral: 113.84889976249121\n",
    "#std gral: 8.53443628163184\n",
    "\n",
    "\n",
    "\n",
    "# histogram\n",
    "# 126.28778215950788\n",
    "# 2.6452071285228773"
   ]
  },
  {
   "cell_type": "code",
   "execution_count": 15,
   "metadata": {},
   "outputs": [],
   "source": [
    "  \n",
    "def zscore(origin, final):\n",
    "    \n",
    "    image = Image.open(origin)\n",
    "    pixels = asarray(image)\n",
    "\n",
    "    print(pixels)\n",
    "    print('dim image: {}'.format(pixels.shape))\n",
    "    print('Min: %.3f, Max: %.3f' % (pixels.min(), pixels.max()))\n",
    "\n",
    "    pixels = (pixels - 126.28778215950788) /  2.6452071285228773#- 113.84889976249121\n",
    "\n",
    "    #pixels = pixels / 2.6452071285228773 #/ 8.53443\n",
    "    print(\"\\n\\n\")\n",
    "    print(pixels)\n",
    "    im = Image.fromarray(np.float64(pixels))\n",
    "\n",
    "    im.convert('L').save(final)\n",
    "\n"
   ]
  },
  {
   "cell_type": "code",
   "execution_count": 17,
   "metadata": {},
   "outputs": [
    {
     "name": "stdout",
     "output_type": "stream",
     "text": [
      "[[117 209 224 ...   0   0   0]\n",
      " [ 72 202 224 ...   0   0   0]\n",
      " [  0   4   9 ...   0   0   0]\n",
      " ...\n",
      " [ 48  48  47 ... 233 238 245]\n",
      " [ 43  44  46 ... 226 237 243]\n",
      " [  0   0   4 ...   0   0  12]]\n",
      "dim image: (490, 640)\n",
      "Min: 0.000, Max: 255.000\n",
      "\n",
      "\n",
      "\n",
      "[[ -3.51117387  31.26871123  36.93934467 ... -47.74211471 -47.74211471\n",
      "  -47.74211471]\n",
      " [-20.52307419  28.62241562  36.93934467 ... -47.74211471 -47.74211471\n",
      "  -47.74211471]\n",
      " [-47.74211471 -46.22994579 -44.33973464 ... -47.74211471 -47.74211471\n",
      "  -47.74211471]\n",
      " ...\n",
      " [-29.5960877  -29.5960877  -29.97412993 ...  40.34172473  42.23193588\n",
      "   44.87823149]\n",
      " [-31.48629885 -31.10825662 -30.35217216 ...  37.69542913  41.85389365\n",
      "   44.12214703]\n",
      " [-47.74211471 -47.74211471 -46.22994579 ... -47.74211471 -47.74211471\n",
      "  -43.20560796]]\n"
     ]
    }
   ],
   "source": [
    "\n",
    "origin = 'C:/Users/virus/source/repos/DATASETS/PRUEBA/79.png'\n",
    "final = 'C:/Users/virus/source/repos/DATASETS/PRUEBA/79_zscore.png'\n",
    "\n",
    "zscore(origin, final)"
   ]
  },
  {
   "cell_type": "code",
   "execution_count": 60,
   "metadata": {},
   "outputs": [],
   "source": [
    "points_68 = [(163, 232),\n",
    "             (168, 258),\n",
    "             (175, 282),\n",
    "             (182, 307),\n",
    "             (191, 329),\n",
    "             (205, 349),\n",
    "             (223, 366),\n",
    "             (244, 379),\n",
    "             (269, 383),\n",
    "             (293, 377),\n",
    "             (315, 364),\n",
    "             (336, 346),\n",
    "             (351, 323),\n",
    "             (358, 298),\n",
    "             (361, 271),\n",
    "             (363, 244),\n",
    "             (362, 217),\n",
    "             (176, 217),\n",
    "             (184, 201),\n",
    "             (201, 195),\n",
    "             (219, 195),\n",
    "             (235, 203),\n",
    "             (268, 203),\n",
    "             (285, 194),\n",
    "             (304, 190),\n",
    "             (324, 194),\n",
    "             (337, 208),\n",
    "             (253, 226),\n",
    "             (255, 244),\n",
    "             (255, 262),\n",
    "             (257, 280),\n",
    "             (241, 292),\n",
    "             (250, 296),\n",
    "             (259, 298),\n",
    "             (269, 295),\n",
    "             (278, 290),\n",
    "             (199, 235),\n",
    "             (209, 229),\n",
    "             (221, 228),\n",
    "             (234, 235),\n",
    "             (222, 238),\n",
    "             (209, 239),\n",
    "             (281, 232),\n",
    "             (292, 224),\n",
    "             (305, 223),\n",
    "             (316, 228),\n",
    "             (306, 233),\n",
    "             (294, 234),\n",
    "             (231, 319),\n",
    "             (243, 317),\n",
    "             (254, 315),\n",
    "             (262, 317),\n",
    "             (271, 314),\n",
    "             (284, 315),\n",
    "             (299, 315),\n",
    "             (285, 330),\n",
    "             (274, 336),\n",
    "             (265, 337),\n",
    "             (256, 335),\n",
    "             (244, 330),\n",
    "             (237, 320),\n",
    "             (254, 321),\n",
    "             (263, 322),\n",
    "             (272, 321),\n",
    "             (293, 318),\n",
    "             (272, 323),\n",
    "             (263, 325),\n",
    "             (255, 323)]\n",
    "\n",
    "points = [(199, 235), # 36\n",
    "          (209, 229), # 37\n",
    "          (221, 228), # 38\n",
    "          (234, 235), # 39\n",
    "          (222, 238), # 40\n",
    "          (209, 239), # 41\n",
    "          (281, 232), # 42\n",
    "          (292, 224), # 43\n",
    "          (305, 223), # 44\n",
    "          (316, 228), # 45\n",
    "          (306, 233), # 46\n",
    "          (294, 234)] # 47\n",
    "\n",
    "\n",
    "#           (x , y)\n",
    "left = [  (199, 235), # 36\n",
    "          (209, 229), # 37\n",
    "          (221, 228), # 38\n",
    "          (234, 235), # 39\n",
    "          (222, 238), # 40\n",
    "          (209, 239)] # 41\n",
    "\n",
    "#           (x , y)\n",
    "right = [ (281, 232), # 42\n",
    "          (292, 224), # 43\n",
    "          (305, 223), # 44\n",
    "          (316, 228), # 45\n",
    "          (306, 233), # 46\n",
    "          (294, 234)] # 47"
   ]
  },
  {
   "cell_type": "code",
   "execution_count": 61,
   "metadata": {},
   "outputs": [],
   "source": [
    "val = np.asarray(points)\n",
    "x = val[0:6]\n",
    "y = val[6:]"
   ]
  },
  {
   "cell_type": "code",
   "execution_count": 62,
   "metadata": {},
   "outputs": [
    {
     "data": {
      "text/plain": [
       "array([[199, 235],\n",
       "       [209, 229],\n",
       "       [221, 228],\n",
       "       [234, 235],\n",
       "       [222, 238],\n",
       "       [209, 239]])"
      ]
     },
     "execution_count": 62,
     "metadata": {},
     "output_type": "execute_result"
    }
   ],
   "source": [
    "x"
   ]
  },
  {
   "cell_type": "code",
   "execution_count": 63,
   "metadata": {},
   "outputs": [
    {
     "data": {
      "text/plain": [
       "array([[281, 232],\n",
       "       [292, 224],\n",
       "       [305, 223],\n",
       "       [316, 228],\n",
       "       [306, 233],\n",
       "       [294, 234]])"
      ]
     },
     "execution_count": 63,
     "metadata": {},
     "output_type": "execute_result"
    }
   ],
   "source": [
    "y"
   ]
  },
  {
   "cell_type": "code",
   "execution_count": 84,
   "metadata": {},
   "outputs": [
    {
     "data": {
      "text/plain": [
       "1374"
      ]
     },
     "execution_count": 84,
     "metadata": {},
     "output_type": "execute_result"
    }
   ],
   "source": [
    "np.sum(y[:,1])"
   ]
  },
  {
   "cell_type": "code",
   "execution_count": 72,
   "metadata": {},
   "outputs": [],
   "source": [
    "import math \n",
    "\n",
    "\n",
    "def compute_distance(points):\n",
    "    \n",
    "    # as array, much more fast\n",
    "    points = np.asarray(points)\n",
    "    \n",
    "    # select eye right and left\n",
    "    left = points[0:6] # points(x,y), 36 to 41\n",
    "    right = points[6:] # points(x,y), 42 to 47\n",
    "    \n",
    "    sum_x = np.sum(right[:,0])\n",
    "    sum_y = np.sum(left[:,0])\n",
    "    \n",
    "    d = (sum_x - sum_y) / 6\n",
    "    return d\n",
    "    \n",
    "\n",
    "\n",
    "def compute_angle(points):\n",
    "    \n",
    "    # as array, much more fast\n",
    "    points = np.asarray(points)\n",
    "    \n",
    "    # select eye right and left\n",
    "    left = points[0:6] # points 36 to 41\n",
    "    right = points[6:] # points 42 to 47\n",
    "    \n",
    "    # compute numerator\n",
    "    asum_x = np.sum(right[:,1]) # points 42 to 47 => 'y'\n",
    "    asum_y = np.sum(left[:,1])  # points 36 to 41 => 'y'\n",
    "    \n",
    "    numerador = asum_x - asum_y\n",
    "    \n",
    "    # compute denominator\n",
    "    asum2_x = np.sum(right[:,0]) # points 42 to 47 => 'x'\n",
    "    asum2_y = np.sum(left[:,0])  # points 36 to 41 => 'x'\n",
    "    \n",
    "    denominador = asum2_x - asum2_y\n",
    "    \n",
    "    # compute angle=arctan(x)\n",
    "    angle = np.degrees(np.arctan(numerador / denominador))\n",
    "    \n",
    "    ########################################\n",
    "    ########################################\n",
    "    ########################################\n",
    "    #sum_x = sum([cord[1] for cord in right])\n",
    "    #sum_y = sum([cord[1] for cord in left])\n",
    "    \n",
    "    #numerador = sum_x - sum_y\n",
    "    \n",
    "    #sum2_x = sum([cord[0] for cord in right])\n",
    "    #sum2_y = sum([cord[0] for cord in left])\n",
    "    \n",
    "    #denominador = sum2_x - sum2_y\n",
    "    \n",
    "    #angle = math.atan(numerador / denominador)\n",
    "    \n",
    "    return angle\n",
    "\n",
    "\n",
    "# angle2 = -0.05992815512120788 original"
   ]
  },
  {
   "cell_type": "code",
   "execution_count": 73,
   "metadata": {},
   "outputs": [
    {
     "data": {
      "text/plain": [
       "-3.433630362450522"
      ]
     },
     "execution_count": 73,
     "metadata": {},
     "output_type": "execute_result"
    }
   ],
   "source": [
    "compute_angle(points)"
   ]
  },
  {
   "cell_type": "code",
   "execution_count": 74,
   "metadata": {},
   "outputs": [
    {
     "data": {
      "text/plain": [
       "83.33333333333333"
      ]
     },
     "execution_count": 74,
     "metadata": {},
     "output_type": "execute_result"
    }
   ],
   "source": [
    "compute_distance(points)"
   ]
  },
  {
   "cell_type": "code",
   "execution_count": 85,
   "metadata": {},
   "outputs": [],
   "source": [
    "from PIL import Image, ImageDraw\n",
    "\n",
    "\n",
    "im = Image.open(\"C:/Users/virus/source/repos/DATASETS/PRUEBA/landmarck/rotate1.png\").convert('RGB')\n",
    "draw = ImageDraw.Draw(im)\n",
    "\n",
    "draw.point(points_68, fill='red')\n",
    "\n",
    "im.show()"
   ]
  },
  {
   "cell_type": "code",
   "execution_count": 81,
   "metadata": {},
   "outputs": [],
   "source": [
    "# import the Python Image processing Library\n",
    "from PIL import Image\n",
    "\n",
    "# Create an Image object from an Image\n",
    "colorImage  = Image.open(\"C:/Users/virus/source/repos/DATASETS/PRUEBA/landmarck/rotate1.png\")\n",
    " \n",
    "# Rotate it by 45 degrees\n",
    "rotated = colorImage.rotate(3.433630362450522)\n",
    "\n",
    "# Display the Original Image\n",
    "#colorImage.show()\n",
    "\n",
    "####rotated.convert('L').save(\"C:/Users/virus/source/repos/DATASETS/PRUEBA/landmarck/rotate11.png\")\n",
    "# Display the Image rotated by 45 degrees\n",
    "\n",
    "rotated.show()"
   ]
  },
  {
   "cell_type": "code",
   "execution_count": 41,
   "metadata": {},
   "outputs": [
    {
     "data": {
      "text/plain": [
       "-3.433630362450522"
      ]
     },
     "execution_count": 41,
     "metadata": {},
     "output_type": "execute_result"
    }
   ],
   "source": [
    "np.degrees(-0.05992815512120788)"
   ]
  },
  {
   "cell_type": "code",
   "execution_count": 76,
   "metadata": {},
   "outputs": [],
   "source": [
    "rotated = [(201, 228),\n",
    "           (211, 222),\n",
    "           (223, 223),\n",
    "           (235, 230),\n",
    "           (223, 233),\n",
    "           (210, 233),\n",
    "           (281, 230),\n",
    "           (294, 223),\n",
    "           (306, 223),\n",
    "           (317, 228),\n",
    "           (307, 233),\n",
    "           (294, 233)]"
   ]
  },
  {
   "cell_type": "code",
   "execution_count": 77,
   "metadata": {},
   "outputs": [
    {
     "data": {
      "text/plain": [
       "0.11551552798742593"
      ]
     },
     "execution_count": 77,
     "metadata": {},
     "output_type": "execute_result"
    }
   ],
   "source": [
    "compute_angle(rotated)"
   ]
  },
  {
   "cell_type": "code",
   "execution_count": 75,
   "metadata": {},
   "outputs": [
    {
     "data": {
      "text/plain": [
       "82.66666666666667"
      ]
     },
     "execution_count": 75,
     "metadata": {},
     "output_type": "execute_result"
    }
   ],
   "source": [
    "compute_distance(rotated)"
   ]
  },
  {
   "cell_type": "markdown",
   "metadata": {},
   "source": [
    "# Downsampling\n"
   ]
  },
  {
   "cell_type": "code",
   "execution_count": 4,
   "metadata": {},
   "outputs": [],
   "source": [
    "PATH = 'C:/Users/virus/source/repos/DATASETS/PRUEBA/landmarck/Rotations/CroppedImages/rotate1.png'\n",
    "\n",
    "img = Image.open(PATH)\n",
    "img.load()\n",
    "img_array = np.asarray(img, dtype='int32')\n"
   ]
  },
  {
   "cell_type": "code",
   "execution_count": 5,
   "metadata": {},
   "outputs": [
    {
     "data": {
      "text/plain": [
       "(210, 198)"
      ]
     },
     "execution_count": 5,
     "metadata": {},
     "output_type": "execute_result"
    }
   ],
   "source": [
    "img_array.shape"
   ]
  },
  {
   "cell_type": "code",
   "execution_count": 6,
   "metadata": {},
   "outputs": [
    {
     "data": {
      "text/plain": [
       "0"
      ]
     },
     "execution_count": 6,
     "metadata": {},
     "output_type": "execute_result"
    }
   ],
   "source": [
    "img_array.min()"
   ]
  },
  {
   "cell_type": "code",
   "execution_count": 7,
   "metadata": {},
   "outputs": [
    {
     "data": {
      "text/plain": [
       "255"
      ]
     },
     "execution_count": 7,
     "metadata": {},
     "output_type": "execute_result"
    }
   ],
   "source": [
    "img_array.max()"
   ]
  },
  {
   "cell_type": "code",
   "execution_count": 25,
   "metadata": {},
   "outputs": [
    {
     "data": {
      "text/plain": [
       "<matplotlib.image.AxesImage at 0x27aaadbe400>"
      ]
     },
     "execution_count": 25,
     "metadata": {},
     "output_type": "execute_result"
    },
    {
     "data": {
      "image/png": "[encoded data removed]",
      "text/plain": [
       "<Figure size 432x288 with 1 Axes>"
      ]
     },
     "metadata": {},
     "output_type": "display_data"
    }
   ],
   "source": [
    "red1 = np.copy(img_array)\n",
    "red1[:,0] = 255 # this is on (top row below)\n",
    "plt.imshow(red1)\n"
   ]
  },
  {
   "cell_type": "code",
   "execution_count": 27,
   "metadata": {},
   "outputs": [],
   "source": [
    "downsample = 20\n",
    "# first, change to 0-1\n",
    "ds_array = img_array/255"
   ]
  },
  {
   "cell_type": "code",
   "execution_count": 39,
   "metadata": {},
   "outputs": [
    {
     "name": "stderr",
     "output_type": "stream",
     "text": [
      "C:\\Program Files (x86)\\Microsoft Visual Studio\\Shared\\Anaconda3_64\\lib\\site-packages\\skimage\\transform\\_warps.py:84: UserWarning: The default mode, 'constant', will be changed to 'reflect' in skimage 0.15.\n",
      "  warn(\"The default mode, 'constant', will be changed to 'reflect' in \"\n"
     ]
    }
   ],
   "source": [
    "from skimage.transform import resize\n",
    "\n",
    "resized = resize(img_array, (32, 32))\n"
   ]
  },
  {
   "cell_type": "code",
   "execution_count": 41,
   "metadata": {},
   "outputs": [],
   "source": [
    "img = Image.fromarray(resized, 'L')\n",
    "img.show()"
   ]
  },
  {
   "cell_type": "code",
   "execution_count": 52,
   "metadata": {},
   "outputs": [],
   "source": [
    "def process_image(image):\n",
    "    \"Processes the image\"\n",
    "    image = image.resize((32, 32), Image.ANTIALIAS) # or whatever you are doing to the image\n",
    "    return image\n",
    "\n",
    "\n",
    "path = 'C:/Users/virus/source/repos/DATASETS/PRUEBA/landmarck/Rotations/CroppedImages/rotate4.png'\n",
    "image = Image.open(path)\n",
    "proc_image = process_image(image)\n",
    "proc_image.save('C:/Users/virus/source/repos/DATASETS/PRUEBA/landmarck/Rotations/CroppedImages/out4.png')"
   ]
  },
  {
   "cell_type": "code",
   "execution_count": null,
   "metadata": {},
   "outputs": [],
   "source": []
  },
  {
   "cell_type": "code",
   "execution_count": null,
   "metadata": {},
   "outputs": [],
   "source": []
  },
  {
   "cell_type": "code",
   "execution_count": null,
   "metadata": {},
   "outputs": [],
   "source": []
  }
 ],
 "metadata": {
  "kernelspec": {
   "display_name": "Python 3",
   "language": "python",
   "name": "python3"
  },
  "language_info": {
   "codemirror_mode": {
    "name": "ipython",
    "version": 3
   },
   "file_extension": ".py",
   "mimetype": "text/x-python",
   "name": "python",
   "nbconvert_exporter": "python",
   "pygments_lexer": "ipython3",
   "version": "3.6.5"
  }
 },
 "nbformat": 4,
 "nbformat_minor": 2
}
