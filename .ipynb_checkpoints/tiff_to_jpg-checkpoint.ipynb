{
 "cells": [
  {
   "cell_type": "code",
   "execution_count": 1,
   "metadata": {},
   "outputs": [],
   "source": [
    "import os\n",
    "import sys\n",
    "import glob\n",
    "import imghdr\n",
    "import numpy as np\n",
    "from PIL import Image\n",
    "import matplotlib.pyplot as plt\n"
   ]
  },
  {
   "cell_type": "code",
   "execution_count": 2,
   "metadata": {},
   "outputs": [],
   "source": [
    "\n",
    "\n",
    "def change_format_image(path, image_original = None, image_result=None):\n",
    "    \"\"\"\n",
    "    path: root directory\n",
    "    image_original: format of input image\n",
    "    image_result: format of output image\n",
    "    \"\"\"\n",
    "    if not os.path.isdir(path):\n",
    "        raise Exception(\"Invalid directory\")\n",
    "        \n",
    "    # New Directory  \n",
    "    directory = \"OutputFile/\"\n",
    "    new_path = os.path.join(path, directory)\n",
    "    \n",
    "    for root, dirs, files in os.walk(path, topdown=False):\n",
    "        for name in files:\n",
    "            \n",
    "            if imghdr.what(name) == str(image_original).lower():\n",
    "                if (os.path.splitext(os.path.join(root, name))[0]\n",
    "                    + image_result):\n",
    "                    \n",
    "                    try:\n",
    "                        # if not exist\n",
    "                        if not os.path.isdir(new_path):\n",
    "                            os.mkdir(new_path)\n",
    "                            \n",
    "                        original = path + name\n",
    "                        \n",
    "                        print(\"original: \", original)\n",
    "                        outfile = os.path.splitext(os.path.join(new_path, name))[0]\n",
    "                        + '.' + image_result.lower()\n",
    "                        \n",
    "                        Image.open(original).convert('RGB').save(outfile)\n",
    "                    \n",
    "                    except Exception:\n",
    "                        raise (\"An error has ocurred when trying save the image to new format\")\n",
    "                        "
   ]
  },
  {
   "cell_type": "code",
   "execution_count": 15,
   "metadata": {},
   "outputs": [],
   "source": [
    "\n"
   ]
  },
  {
   "cell_type": "code",
   "execution_count": null,
   "metadata": {},
   "outputs": [],
   "source": []
  },
  {
   "cell_type": "code",
   "execution_count": 7,
   "metadata": {},
   "outputs": [],
   "source": [
    "\n",
    "FINAL_PATH_LABELED = 'C:/Users/virus/Downloads/CK+/cohn-kanade-images-labeled/'\n",
    "FINAL_PATH_UNLABELED = 'C:/Users/virus/Downloads/CK+/cohn-kanade-images-unlabeled/'\n",
    "\n",
    "\n",
    "    \n",
    "    \n",
    "def get_folder(string1, string2):\n",
    "    \n",
    "    if string1 == string2:\n",
    "        return None\n",
    "        \n",
    "    if  len(string1) < len(string2):\n",
    "        return string2[len(string1):]\n",
    "    \n",
    "    else:\n",
    "        return string1[len(string2):]\n",
    "\n",
    "    \n",
    "# save images with label\n",
    "def save_with_label(path_images, inner_folder, emotion):\n",
    "    \n",
    "   \n",
    "    #if not os.path.isdir(final_path):\n",
    "    #    os.mkdir(final_path)\n",
    "        \n",
    "\n",
    "    total_images = os.listdir(path_images)\n",
    "    \n",
    "    for image in total_images:\n",
    "        dir_images = os.path.join(path_images, image)\n",
    "        \n",
    "        ###########print(dir_images, image)\n",
    "        \n",
    "        final_dir = FINAL_PATH + inner_folder + '/' + emotion + '/' + image\n",
    "        create = FINAL_PATH + inner_folder + '/' + emotion + '/'\n",
    "        \n",
    "        \n",
    "            \n",
    "        if not os.path.isdir(FINAL_PATH + inner_folder + '/'):\n",
    "            os.mkdir(FINAL_PATH + inner_folder + '/')\n",
    "            \n",
    "        if not os.path.isdir(create):\n",
    "            os.mkdir(create)\n",
    "        \n",
    "        Image.open(dir_images).convert('L').save(final_dir)\n",
    "    \n",
    "    \n",
    "    \n",
    "def save_without_label(get_image, final_dir):\n",
    "    \n",
    "    total_images = os.listdir(get_image)\n",
    "    \n",
    "    for image in total_images:\n",
    "        dir_images = os.path.join(get_image, image)\n",
    "        save_it =  final_dir + image\n",
    "        \n",
    "        #########print('read: ', dir_images)\n",
    "        #########print('save in: ', save_it)\n",
    "        Image.open(dir_images).convert('L').save(save_it)\n",
    "        \n",
    "    print('\\n')\n",
    "    \n",
    "    \n",
    "def get_label(file_path):\n",
    "    \n",
    "    # 0=neutral, 1=anger, 2=contempt, 3=disgust, 4=fear, 5=happy, 6=sadness,\n",
    "    #7=surprise).\n",
    "    \n",
    "    emotions = {0:'neutral',\n",
    "               1:'anger',\n",
    "               2:'contempt',\n",
    "               3:'disgust',\n",
    "               4:'fear',\n",
    "               5:'happy',\n",
    "               6:'sadness',\n",
    "               7:'surprise'}\n",
    "    \n",
    "    \n",
    "    file1 = open(file_path,\"r\") \n",
    "    \n",
    "    value = file1.readlines()[0].strip()\n",
    "    value = int(value.strip(\"\\n\")[0])\n",
    "    file1.close()\n",
    "    \n",
    "    return emotions[value]\n",
    "    \n",
    "    \n",
    "\n",
    "    \n",
    "    \n",
    "def folders_inner(path, inner_folder, images_folder):\n",
    "    \n",
    "    if not os.path.isdir(path):\n",
    "        raise Exception(\"Invalid directory\")\n",
    "      \n",
    "    \n",
    "    \n",
    "    for root, dirs, files in os.walk(path, topdown=False):\n",
    "        \n",
    "        if dirs:\n",
    "            for folder in dirs:\n",
    "                \n",
    "                folder_n = path + '/' + folder\n",
    "                \n",
    "                total_images = len(list(os.listdir(folder_n)))\n",
    "                new_file = images_folder + '/'+ folder + '/'\n",
    "                \n",
    "                # with label\n",
    "                if total_images > 0:\n",
    "                    \n",
    "                    \n",
    "                    images = list(os.listdir(folder_n))\n",
    "                    file_emotion = os.listdir(folder_n)[0]\n",
    "                    \n",
    "                    final_path_emotion = folder_n + '/' + file_emotion\n",
    "                    emotion = get_label(final_path_emotion)\n",
    "                    \n",
    "                    \n",
    "                    \n",
    "                    # save in a new folder\n",
    "                    save_with_label(new_file, inner_folder, emotion)\n",
    "                    \n",
    "                    \n",
    "                # wihout label              \n",
    "                else:\n",
    "                    \n",
    "                    final_saved = FINAL_PATH_UNLABELED  + inner_folder + '/' + folder + '/'\n",
    "                    \n",
    "                    \n",
    "                    get_image = images_folder + '/' + folder + '/'\n",
    "\n",
    "                    \n",
    "                    if not os.path.isdir(FINAL_PATH_UNLABELED  + inner_folder + '/'):\n",
    "                        os.mkdir(FINAL_PATH_UNLABELED  + inner_folder + '/')\n",
    "                        \n",
    "                    if not os.path.isdir(final_saved):\n",
    "                        os.mkdir(final_saved)\n",
    "                        \n",
    "                    # save images without label\n",
    "                    save_without_label(get_image, final_saved)\n",
    "                    \n",
    "            \n",
    "    \n",
    "    \n",
    "def face_alingment(path, images_path):\n",
    "    \n",
    "    if not os.path.isdir(path):\n",
    "        raise Exception(\"Invalid directory\")\n",
    "    \n",
    "    \n",
    "    if not os.path.isdir(FINAL_PATH_LABELED):\n",
    "        os.mkdir(FINAL_PATH_LABELED)\n",
    "    \n",
    "    \n",
    "    if not os.path.isdir(FINAL_PATH_UNLABELED):\n",
    "        os.mkdir(FINAL_PATH_UNLABELED)\n",
    "    \n",
    "    # training Directory  \n",
    "    training = \"training/\"\n",
    "    training_path = os.path.join('C:/Users/virus/source/repos/DATASETS/', training)\n",
    "    \n",
    "    \n",
    "    for root, dirs, files in os.walk(path, topdown=False):\n",
    "        \n",
    "        inner_folder = get_folder(root, path)\n",
    "        folder = root[:-4]\n",
    "        \n",
    "        if folder.endswith('/'):\n",
    "            \n",
    "            new_file = folder+inner_folder\n",
    "            images_folder = images_path+inner_folder\n",
    "            \n",
    "            \n",
    "            # read all images\n",
    "            folders_inner(new_file, inner_folder, images_folder)\n",
    "            \n",
    "            \n",
    "            \n",
    "        "
   ]
  },
  {
   "cell_type": "code",
   "execution_count": 9,
   "metadata": {},
   "outputs": [],
   "source": [
    "emotions_path = 'C:/Users/virus/Downloads/CK+/Emotion/'\n",
    "images_path = 'C:/Users/virus/Downloads/CK+/cohn-kanade-images/'\n",
    "\n",
    "\n",
    "#face_alingment(emotions_path, images_path)\n",
    "\n"
   ]
  },
  {
   "cell_type": "code",
   "execution_count": 401,
   "metadata": {},
   "outputs": [
    {
     "data": {
      "text/plain": [
       "['S010_001_00000001.png',\n",
       " 'S010_001_00000002.png',\n",
       " 'S010_001_00000003.png',\n",
       " 'S010_001_00000004.png',\n",
       " 'S010_001_00000005.png',\n",
       " 'S010_001_00000006.png',\n",
       " 'S010_001_00000007.png',\n",
       " 'S010_001_00000008.png',\n",
       " 'S010_001_00000009.png',\n",
       " 'S010_001_00000010.png',\n",
       " 'S010_001_00000011.png',\n",
       " 'S010_001_00000012.png',\n",
       " 'S010_001_00000013.png',\n",
       " 'S010_001_00000014.png']"
      ]
     },
     "execution_count": 401,
     "metadata": {},
     "output_type": "execute_result"
    }
   ],
   "source": [
    "list(os.listdir('C:/Users/virus/Downloads/CK+/cohn-kanade-images/S010/001'))"
   ]
  },
  {
   "cell_type": "code",
   "execution_count": 277,
   "metadata": {},
   "outputs": [
    {
     "data": {
      "image/png": "[encoded data removed]",
      "text/plain": [
       "<PIL.Image.Image image mode=L size=640x490 at 0x1EBFF03BA20>"
      ]
     },
     "execution_count": 277,
     "metadata": {},
     "output_type": "execute_result"
    }
   ],
   "source": [
    "img = Image.open(dir_images).convert('L')\n",
    "img"
   ]
  },
  {
   "cell_type": "code",
   "execution_count": 271,
   "metadata": {},
   "outputs": [
    {
     "data": {
      "text/plain": [
       "(490, 640)"
      ]
     },
     "execution_count": 271,
     "metadata": {},
     "output_type": "execute_result"
    }
   ],
   "source": [
    "\n",
    "I = np.asarray(img)\n",
    "I.shape"
   ]
  },
  {
   "cell_type": "code",
   "execution_count": null,
   "metadata": {},
   "outputs": [],
   "source": []
  },
  {
   "cell_type": "code",
   "execution_count": null,
   "metadata": {},
   "outputs": [],
   "source": []
  },
  {
   "cell_type": "code",
   "execution_count": 241,
   "metadata": {},
   "outputs": [
    {
     "name": "stdout",
     "output_type": "stream",
     "text": [
      "Total images:  44\n",
      "Training:  35\n",
      "Testing:  9\n",
      "\n",
      "\n",
      "\n",
      "Total images:  17\n",
      "Training:  13\n",
      "Testing:  4\n",
      "\n",
      "\n",
      "\n",
      "Total images:  59\n",
      "Training:  47\n",
      "Testing:  12\n",
      "\n",
      "\n",
      "\n",
      "Total images:  24\n",
      "Training:  19\n",
      "Testing:  5\n",
      "\n",
      "\n",
      "\n",
      "Total images:  69\n",
      "Training:  55\n",
      "Testing:  14\n",
      "\n",
      "\n",
      "\n",
      "Total images:  116\n",
      "Training:  92\n",
      "Testing:  24\n",
      "\n",
      "\n",
      "\n",
      "Total images:  27\n",
      "Training:  21\n",
      "Testing:  6\n",
      "\n",
      "\n",
      "\n",
      "Total images:  83\n",
      "Training:  66\n",
      "Testing:  17\n",
      "\n",
      "\n",
      "\n"
     ]
    }
   ],
   "source": [
    "import os\n",
    "import numpy as np\n",
    "import shutil\n",
    "import random\n",
    "\n",
    "\n",
    "# # Creating Train / Val / Test folders (One time use)\n",
    "root_dir = 'C:/Users/virus/Downloads/CK+/filtered'\n",
    "classes_dir = ['/anger', '/contempt', '/disgust', '/fear', '/happy', '/neutral', '/sadness', '/surprise']\n",
    "\n",
    "#val_ratio = 0.15\n",
    "test_ratio = 0.20\n",
    "\n",
    "for cls in classes_dir:\n",
    "    os.makedirs(root_dir +'/train' + cls)\n",
    "    ###############os.makedirs(root_dir +'/val' + cls)\n",
    "    os.makedirs(root_dir +'/test' + cls)\n",
    "\n",
    "\n",
    "    # Creating partitions of the data after shuffeling\n",
    "    src = root_dir + cls # Folder to copy images from\n",
    "\n",
    "    allFileNames = os.listdir(src)\n",
    "    np.random.shuffle(allFileNames)\n",
    "    \n",
    "    ################# train_FileNames, val_FileNames, test_FileNames = np.split....\n",
    "    train_FileNames, test_FileNames = np.split(np.array(allFileNames),\n",
    "                                                              #[int(len(allFileNames)*(1 - val_ratio + test_ratio)), \n",
    "                                                               [int(len(allFileNames)*(1 - test_ratio))])\n",
    "\n",
    "\n",
    "    train_FileNames = [src+'/'+ name for name in train_FileNames.tolist()]\n",
    "    #################val_FileNames = [src+'/' + name for name in val_FileNames.tolist()]\n",
    "    test_FileNames = [src+'/' + name for name in test_FileNames.tolist()]\n",
    "\n",
    "    print('Total images: ', len(allFileNames))\n",
    "    print('Training: ', len(train_FileNames))\n",
    "    #################print('Validation: ', len(val_FileNames))\n",
    "    print('Testing: ', len(test_FileNames))\n",
    "    print(\"\\n\\n\")\n",
    "    # Copy-pasting images\n",
    "    for name in train_FileNames:\n",
    "        shutil.copy(name, root_dir +'/train' + cls)\n",
    "    \n",
    "    #################for name in val_FileNames:\n",
    "        #################shutil.copy(name, root_dir +'/val' + cls)\n",
    "\n",
    "    for name in test_FileNames:\n",
    "        shutil.copy(name, root_dir +'/test' + cls)"
   ]
  },
  {
   "cell_type": "code",
   "execution_count": null,
   "metadata": {},
   "outputs": [],
   "source": []
  },
  {
   "cell_type": "code",
   "execution_count": null,
   "metadata": {},
   "outputs": [],
   "source": []
  },
  {
   "cell_type": "code",
   "execution_count": null,
   "metadata": {},
   "outputs": [],
   "source": []
  },
  {
   "cell_type": "code",
   "execution_count": null,
   "metadata": {},
   "outputs": [],
   "source": []
  },
  {
   "cell_type": "code",
   "execution_count": null,
   "metadata": {},
   "outputs": [],
   "source": []
  },
  {
   "cell_type": "code",
   "execution_count": null,
   "metadata": {},
   "outputs": [],
   "source": []
  },
  {
   "cell_type": "markdown",
   "metadata": {},
   "source": [
    "# DATA NORMALIZATION | z-score"
   ]
  },
  {
   "cell_type": "code",
   "execution_count": 6,
   "metadata": {},
   "outputs": [],
   "source": [
    "import numpy as np\n",
    "from PIL import Image\n",
    "from numpy import asarray\n",
    "from scipy import stats\n",
    "\n",
    "def mean_std_by(image):\n",
    "    \n",
    "    image = Image.open(image)\n",
    "    pixels = asarray(image)\n",
    "    \n",
    "    mean = np.mean(pixels.flatten(), dtype=np.float64)\n",
    "    std = np.std(pixels.flatten(), dtype=np.float64)\n",
    "    \n",
    "    return mean, std\n",
    "    \n",
    "def read_images(path):\n",
    "\n",
    "    if not os.path.isdir(path):\n",
    "        raise Exception(\"Invalid directory...\")\n",
    "        \n",
    "    \n",
    "    directory = \"Histogram/\"\n",
    "    new_path = os.path.join(path, directory)\n",
    "    \n",
    "    means = []\n",
    "    stds = []\n",
    "    \n",
    "    for root, dirs, files in os.walk(path, topdown=False):\n",
    "\n",
    "        for i, name in enumerate(files, 1):\n",
    "            original = os.path.join(root, name)\n",
    "\n",
    "            mean, std = mean_std_by(original)\n",
    "            means.append(mean)\n",
    "            stds.append(std)\n",
    "            if i % 100 == 0:\n",
    "                print(\"computing std, mean...left {}\".format(len(files) - i))\n",
    "            \n",
    "    mean_gral = np.mean(np.asarray(means))\n",
    "    std_gral = np.std(np.asarray(stds))\n",
    "    \n",
    "    return mean_gral, std_gral\n",
    "    \n",
    "    \n",
    "    \n",
    "def zscore(origin, final, mean, std):\n",
    "    \n",
    "    image = Image.open(origin)\n",
    "    pixels = asarray(image)\n",
    "\n",
    "    pixels = (pixels - mean) /  std\n",
    "    \n",
    "    im = Image.fromarray(np.float64(pixels))\n",
    "\n",
    "    im.convert('L').save(final)\n",
    "    \n",
    "    \n",
    "def zscore_normalization(path):\n",
    "    \n",
    "    \n",
    "    if not os.path.isdir(path):\n",
    "        raise Exception(\"Invalid directory\")\n",
    "    \n",
    "    \n",
    "    # New Directory  \n",
    "    directory = \"ZscoreOutput/\"\n",
    "    new_path = os.path.join(path, directory)\n",
    "    \n",
    "    if not os.path.isdir(new_path):\n",
    "        os.mkdir(new_path)\n",
    "    \n",
    "    # compute mean and std for all images\n",
    "    mean, std = read_images(path)\n",
    "    print(\"\")\n",
    "    print(\"mean gral: {}\\nstd gral: {}\".format(mean, std))\n",
    "    print(\"\")\n",
    "    \n",
    "    for root, dirs, files in os.walk(path, topdown=False):\n",
    "\n",
    "        for i, file in enumerate(files):\n",
    "            original = os.path.join(root, file)\n",
    "            \n",
    "            new_folder = os.path.join(new_path, file)\n",
    "            \n",
    "            zscore(original, new_folder, mean, std)\n",
    "            if i%100 == 0:\n",
    "                print(\"z score nomalization, left...{}\".format(len(files) - i))\n",
    "\n",
    "    print(\"finished...\")\n",
    "    \n",
    "if __name__ == '__main__':\n",
    "    # folder with all images\n",
    "    dir_image = 'C:/Users/virus/source/repos/DATASETS/CK+/Histogram/'\n",
    "    \n",
    "    # apply zscore normalization after histogram equalization was applied\n",
    "    ###############zscore_normalization(dir_image)\n",
    "    \n",
    "    \n",
    "    \n",
    "    \n",
    "    \n",
    "    "
   ]
  },
  {
   "cell_type": "code",
   "execution_count": 28,
   "metadata": {},
   "outputs": [],
   "source": [
    "\n",
    "\n",
    "#mean gral: 117.9951938948301\n",
    "#std gral: 9.114636153038024\n",
    "\n",
    "\n",
    "\n",
    "\n",
    "#mean gral: 113.84889976249121\n",
    "#std gral: 8.53443628163184\n",
    "\n",
    "\n",
    "\n",
    "# histogram\n",
    "# 126.28778215950788\n",
    "# 2.6452071285228773"
   ]
  },
  {
   "cell_type": "code",
   "execution_count": 15,
   "metadata": {},
   "outputs": [],
   "source": [
    "  \n",
    "def zscore(origin, final):\n",
    "    \n",
    "    image = Image.open(origin)\n",
    "    pixels = asarray(image)\n",
    "\n",
    "    print(pixels)\n",
    "    print('dim image: {}'.format(pixels.shape))\n",
    "    print('Min: %.3f, Max: %.3f' % (pixels.min(), pixels.max()))\n",
    "\n",
    "    pixels = (pixels - 126.28778215950788) /  2.6452071285228773#- 113.84889976249121\n",
    "\n",
    "    #pixels = pixels / 2.6452071285228773 #/ 8.53443\n",
    "    print(\"\\n\\n\")\n",
    "    print(pixels)\n",
    "    im = Image.fromarray(np.float64(pixels))\n",
    "\n",
    "    im.convert('L').save(final)\n",
    "\n"
   ]
  },
  {
   "cell_type": "code",
   "execution_count": 17,
   "metadata": {},
   "outputs": [
    {
     "name": "stdout",
     "output_type": "stream",
     "text": [
      "[[117 209 224 ...   0   0   0]\n",
      " [ 72 202 224 ...   0   0   0]\n",
      " [  0   4   9 ...   0   0   0]\n",
      " ...\n",
      " [ 48  48  47 ... 233 238 245]\n",
      " [ 43  44  46 ... 226 237 243]\n",
      " [  0   0   4 ...   0   0  12]]\n",
      "dim image: (490, 640)\n",
      "Min: 0.000, Max: 255.000\n",
      "\n",
      "\n",
      "\n",
      "[[ -3.51117387  31.26871123  36.93934467 ... -47.74211471 -47.74211471\n",
      "  -47.74211471]\n",
      " [-20.52307419  28.62241562  36.93934467 ... -47.74211471 -47.74211471\n",
      "  -47.74211471]\n",
      " [-47.74211471 -46.22994579 -44.33973464 ... -47.74211471 -47.74211471\n",
      "  -47.74211471]\n",
      " ...\n",
      " [-29.5960877  -29.5960877  -29.97412993 ...  40.34172473  42.23193588\n",
      "   44.87823149]\n",
      " [-31.48629885 -31.10825662 -30.35217216 ...  37.69542913  41.85389365\n",
      "   44.12214703]\n",
      " [-47.74211471 -47.74211471 -46.22994579 ... -47.74211471 -47.74211471\n",
      "  -43.20560796]]\n"
     ]
    }
   ],
   "source": [
    "\n",
    "origin = 'C:/Users/virus/source/repos/DATASETS/PRUEBA/79.png'\n",
    "final = 'C:/Users/virus/source/repos/DATASETS/PRUEBA/79_zscore.png'\n",
    "\n",
    "zscore(origin, final)"
   ]
  },
  {
   "cell_type": "code",
   "execution_count": 60,
   "metadata": {},
   "outputs": [],
   "source": [
    "points_68 = [(163, 232),\n",
    "             (168, 258),\n",
    "             (175, 282),\n",
    "             (182, 307),\n",
    "             (191, 329),\n",
    "             (205, 349),\n",
    "             (223, 366),\n",
    "             (244, 379),\n",
    "             (269, 383),\n",
    "             (293, 377),\n",
    "             (315, 364),\n",
    "             (336, 346),\n",
    "             (351, 323),\n",
    "             (358, 298),\n",
    "             (361, 271),\n",
    "             (363, 244),\n",
    "             (362, 217),\n",
    "             (176, 217),\n",
    "             (184, 201),\n",
    "             (201, 195),\n",
    "             (219, 195),\n",
    "             (235, 203),\n",
    "             (268, 203),\n",
    "             (285, 194),\n",
    "             (304, 190),\n",
    "             (324, 194),\n",
    "             (337, 208),\n",
    "             (253, 226),\n",
    "             (255, 244),\n",
    "             (255, 262),\n",
    "             (257, 280),\n",
    "             (241, 292),\n",
    "             (250, 296),\n",
    "             (259, 298),\n",
    "             (269, 295),\n",
    "             (278, 290),\n",
    "             (199, 235),\n",
    "             (209, 229),\n",
    "             (221, 228),\n",
    "             (234, 235),\n",
    "             (222, 238),\n",
    "             (209, 239),\n",
    "             (281, 232),\n",
    "             (292, 224),\n",
    "             (305, 223),\n",
    "             (316, 228),\n",
    "             (306, 233),\n",
    "             (294, 234),\n",
    "             (231, 319),\n",
    "             (243, 317),\n",
    "             (254, 315),\n",
    "             (262, 317),\n",
    "             (271, 314),\n",
    "             (284, 315),\n",
    "             (299, 315),\n",
    "             (285, 330),\n",
    "             (274, 336),\n",
    "             (265, 337),\n",
    "             (256, 335),\n",
    "             (244, 330),\n",
    "             (237, 320),\n",
    "             (254, 321),\n",
    "             (263, 322),\n",
    "             (272, 321),\n",
    "             (293, 318),\n",
    "             (272, 323),\n",
    "             (263, 325),\n",
    "             (255, 323)]\n",
    "\n",
    "points = [(199, 235), # 36\n",
    "          (209, 229), # 37\n",
    "          (221, 228), # 38\n",
    "          (234, 235), # 39\n",
    "          (222, 238), # 40\n",
    "          (209, 239), # 41\n",
    "          (281, 232), # 42\n",
    "          (292, 224), # 43\n",
    "          (305, 223), # 44\n",
    "          (316, 228), # 45\n",
    "          (306, 233), # 46\n",
    "          (294, 234)] # 47\n",
    "\n",
    "\n",
    "#           (x , y)\n",
    "left = [  (199, 235), # 36\n",
    "          (209, 229), # 37\n",
    "          (221, 228), # 38\n",
    "          (234, 235), # 39\n",
    "          (222, 238), # 40\n",
    "          (209, 239)] # 41\n",
    "\n",
    "#           (x , y)\n",
    "right = [ (281, 232), # 42\n",
    "          (292, 224), # 43\n",
    "          (305, 223), # 44\n",
    "          (316, 228), # 45\n",
    "          (306, 233), # 46\n",
    "          (294, 234)] # 47"
   ]
  },
  {
   "cell_type": "code",
   "execution_count": 61,
   "metadata": {},
   "outputs": [],
   "source": [
    "val = np.asarray(points)\n",
    "x = val[0:6]\n",
    "y = val[6:]"
   ]
  },
  {
   "cell_type": "code",
   "execution_count": 62,
   "metadata": {},
   "outputs": [
    {
     "data": {
      "text/plain": [
       "array([[199, 235],\n",
       "       [209, 229],\n",
       "       [221, 228],\n",
       "       [234, 235],\n",
       "       [222, 238],\n",
       "       [209, 239]])"
      ]
     },
     "execution_count": 62,
     "metadata": {},
     "output_type": "execute_result"
    }
   ],
   "source": [
    "x"
   ]
  },
  {
   "cell_type": "code",
   "execution_count": 63,
   "metadata": {},
   "outputs": [
    {
     "data": {
      "text/plain": [
       "array([[281, 232],\n",
       "       [292, 224],\n",
       "       [305, 223],\n",
       "       [316, 228],\n",
       "       [306, 233],\n",
       "       [294, 234]])"
      ]
     },
     "execution_count": 63,
     "metadata": {},
     "output_type": "execute_result"
    }
   ],
   "source": [
    "y"
   ]
  },
  {
   "cell_type": "code",
   "execution_count": 84,
   "metadata": {},
   "outputs": [
    {
     "data": {
      "text/plain": [
       "1374"
      ]
     },
     "execution_count": 84,
     "metadata": {},
     "output_type": "execute_result"
    }
   ],
   "source": [
    "np.sum(y[:,1])"
   ]
  },
  {
   "cell_type": "code",
   "execution_count": 72,
   "metadata": {},
   "outputs": [],
   "source": [
    "import math \n",
    "\n",
    "\n",
    "def compute_distance(points):\n",
    "    \n",
    "    # as array, much more fast\n",
    "    points = np.asarray(points)\n",
    "    \n",
    "    # select eye right and left\n",
    "    left = points[0:6] # points(x,y), 36 to 41\n",
    "    right = points[6:] # points(x,y), 42 to 47\n",
    "    \n",
    "    sum_x = np.sum(right[:,0])\n",
    "    sum_y = np.sum(left[:,0])\n",
    "    \n",
    "    d = (sum_x - sum_y) / 6\n",
    "    return d\n",
    "    \n",
    "\n",
    "\n",
    "def compute_angle(points):\n",
    "    \n",
    "    # as array, much more fast\n",
    "    points = np.asarray(points)\n",
    "    \n",
    "    # select eye right and left\n",
    "    left = points[0:6] # points 36 to 41\n",
    "    right = points[6:] # points 42 to 47\n",
    "    \n",
    "    # compute numerator\n",
    "    asum_x = np.sum(right[:,1]) # points 42 to 47 => 'y'\n",
    "    asum_y = np.sum(left[:,1])  # points 36 to 41 => 'y'\n",
    "    \n",
    "    numerador = asum_x - asum_y\n",
    "    \n",
    "    # compute denominator\n",
    "    asum2_x = np.sum(right[:,0]) # points 42 to 47 => 'x'\n",
    "    asum2_y = np.sum(left[:,0])  # points 36 to 41 => 'x'\n",
    "    \n",
    "    denominador = asum2_x - asum2_y\n",
    "    \n",
    "    # compute angle=arctan(x)\n",
    "    angle = np.degrees(np.arctan(numerador / denominador))\n",
    "    \n",
    "    ########################################\n",
    "    ########################################\n",
    "    ########################################\n",
    "    #sum_x = sum([cord[1] for cord in right])\n",
    "    #sum_y = sum([cord[1] for cord in left])\n",
    "    \n",
    "    #numerador = sum_x - sum_y\n",
    "    \n",
    "    #sum2_x = sum([cord[0] for cord in right])\n",
    "    #sum2_y = sum([cord[0] for cord in left])\n",
    "    \n",
    "    #denominador = sum2_x - sum2_y\n",
    "    \n",
    "    #angle = math.atan(numerador / denominador)\n",
    "    \n",
    "    return angle\n",
    "\n",
    "\n",
    "# angle2 = -0.05992815512120788 original"
   ]
  },
  {
   "cell_type": "code",
   "execution_count": 73,
   "metadata": {},
   "outputs": [
    {
     "data": {
      "text/plain": [
       "-3.433630362450522"
      ]
     },
     "execution_count": 73,
     "metadata": {},
     "output_type": "execute_result"
    }
   ],
   "source": [
    "compute_angle(points)"
   ]
  },
  {
   "cell_type": "code",
   "execution_count": 74,
   "metadata": {},
   "outputs": [
    {
     "data": {
      "text/plain": [
       "83.33333333333333"
      ]
     },
     "execution_count": 74,
     "metadata": {},
     "output_type": "execute_result"
    }
   ],
   "source": [
    "compute_distance(points)"
   ]
  },
  {
   "cell_type": "code",
   "execution_count": 85,
   "metadata": {},
   "outputs": [],
   "source": [
    "from PIL import Image, ImageDraw\n",
    "\n",
    "\n",
    "im = Image.open(\"C:/Users/virus/source/repos/DATASETS/PRUEBA/landmarck/rotate1.png\").convert('RGB')\n",
    "draw = ImageDraw.Draw(im)\n",
    "\n",
    "draw.point(points_68, fill='red')\n",
    "\n",
    "im.show()"
   ]
  },
  {
   "cell_type": "code",
   "execution_count": 81,
   "metadata": {},
   "outputs": [],
   "source": [
    "# import the Python Image processing Library\n",
    "from PIL import Image\n",
    "\n",
    "# Create an Image object from an Image\n",
    "colorImage  = Image.open(\"C:/Users/virus/source/repos/DATASETS/PRUEBA/landmarck/rotate1.png\")\n",
    " \n",
    "# Rotate it by 45 degrees\n",
    "rotated = colorImage.rotate(3.433630362450522)\n",
    "\n",
    "# Display the Original Image\n",
    "#colorImage.show()\n",
    "\n",
    "####rotated.convert('L').save(\"C:/Users/virus/source/repos/DATASETS/PRUEBA/landmarck/rotate11.png\")\n",
    "# Display the Image rotated by 45 degrees\n",
    "\n",
    "rotated.show()"
   ]
  },
  {
   "cell_type": "code",
   "execution_count": 41,
   "metadata": {},
   "outputs": [
    {
     "data": {
      "text/plain": [
       "-3.433630362450522"
      ]
     },
     "execution_count": 41,
     "metadata": {},
     "output_type": "execute_result"
    }
   ],
   "source": [
    "np.degrees(-0.05992815512120788)"
   ]
  },
  {
   "cell_type": "markdown",
   "metadata": {},
   "source": [
    "# Downsampling\n"
   ]
  },
  {
   "cell_type": "code",
   "execution_count": 4,
   "metadata": {},
   "outputs": [],
   "source": [
    "PATH = 'C:/Users/virus/source/repos/DATASETS/PRUEBA/landmarck/Rotations/CroppedImages/rotate1.png'\n",
    "\n",
    "img = Image.open(PATH)\n",
    "img.load()\n",
    "img_array = np.asarray(img, dtype='int32')\n"
   ]
  },
  {
   "cell_type": "code",
   "execution_count": 5,
   "metadata": {},
   "outputs": [
    {
     "data": {
      "text/plain": [
       "(210, 198)"
      ]
     },
     "execution_count": 5,
     "metadata": {},
     "output_type": "execute_result"
    }
   ],
   "source": [
    "img_array.shape"
   ]
  },
  {
   "cell_type": "code",
   "execution_count": 6,
   "metadata": {},
   "outputs": [
    {
     "data": {
      "text/plain": [
       "0"
      ]
     },
     "execution_count": 6,
     "metadata": {},
     "output_type": "execute_result"
    }
   ],
   "source": [
    "img_array.min()"
   ]
  },
  {
   "cell_type": "code",
   "execution_count": 7,
   "metadata": {},
   "outputs": [
    {
     "data": {
      "text/plain": [
       "255"
      ]
     },
     "execution_count": 7,
     "metadata": {},
     "output_type": "execute_result"
    }
   ],
   "source": [
    "img_array.max()"
   ]
  },
  {
   "cell_type": "code",
   "execution_count": 25,
   "metadata": {},
   "outputs": [
    {
     "data": {
      "text/plain": [
       "<matplotlib.image.AxesImage at 0x27aaadbe400>"
      ]
     },
     "execution_count": 25,
     "metadata": {},
     "output_type": "execute_result"
    },
    {
     "data": {
      "image/png": "[encoded data removed]",
      "text/plain": [
       "<Figure size 432x288 with 1 Axes>"
      ]
     },
     "metadata": {},
     "output_type": "display_data"
    }
   ],
   "source": [
    "red1 = np.copy(img_array)\n",
    "red1[:,0] = 255 # this is on (top row below)\n",
    "plt.imshow(red1)\n"
   ]
  },
  {
   "cell_type": "code",
   "execution_count": 27,
   "metadata": {},
   "outputs": [],
   "source": [
    "downsample = 20\n",
    "# first, change to 0-1\n",
    "ds_array = img_array/255"
   ]
  },
  {
   "cell_type": "code",
   "execution_count": 39,
   "metadata": {},
   "outputs": [
    {
     "name": "stderr",
     "output_type": "stream",
     "text": [
      "C:\\Program Files (x86)\\Microsoft Visual Studio\\Shared\\Anaconda3_64\\lib\\site-packages\\skimage\\transform\\_warps.py:84: UserWarning: The default mode, 'constant', will be changed to 'reflect' in skimage 0.15.\n",
      "  warn(\"The default mode, 'constant', will be changed to 'reflect' in \"\n"
     ]
    }
   ],
   "source": [
    "from skimage.transform import resize\n",
    "\n",
    "resized = resize(img_array, (32, 32))\n"
   ]
  },
  {
   "cell_type": "code",
   "execution_count": 41,
   "metadata": {},
   "outputs": [],
   "source": [
    "img = Image.fromarray(resized, 'L')\n",
    "img.show()"
   ]
  },
  {
   "cell_type": "code",
   "execution_count": 52,
   "metadata": {},
   "outputs": [],
   "source": [
    "def process_image(image):\n",
    "    \"Processes the image\"\n",
    "    image = image.resize((32, 32), Image.ANTIALIAS) # or whatever you are doing to the image\n",
    "    return image\n",
    "\n",
    "\n",
    "path = 'C:/Users/virus/source/repos/DATASETS/PRUEBA/landmarck/Rotations/CroppedImages/rotate4.png'\n",
    "image = Image.open(path)\n",
    "proc_image = process_image(image)\n",
    "proc_image.save('C:/Users/virus/source/repos/DATASETS/PRUEBA/landmarck/Rotations/CroppedImages/out4.png')"
   ]
  },
  {
   "cell_type": "markdown",
   "metadata": {},
   "source": [
    "# counting images"
   ]
  },
  {
   "cell_type": "code",
   "execution_count": 195,
   "metadata": {},
   "outputs": [],
   "source": [
    "def count_images(path):\n",
    "\n",
    "    if not os.path.isdir(path):\n",
    "        raise Exception(\"Invalid directory...\")\n",
    "        \n",
    "    \n",
    "    directory = \"Histogram/\"\n",
    "    new_path = os.path.join(path, directory)\n",
    "    \n",
    "    means = []\n",
    "    stds = []\n",
    "    val = 0\n",
    "    for root, dirs, files in os.walk(path, topdown=False):\n",
    "        \n",
    "        for i, name in enumerate(files, 1):\n",
    "            \n",
    "            val += 1\n",
    "    print(val)"
   ]
  },
  {
   "cell_type": "code",
   "execution_count": 246,
   "metadata": {},
   "outputs": [
    {
     "name": "stdout",
     "output_type": "stream",
     "text": [
      "348\n"
     ]
    }
   ],
   "source": [
    "\n",
    "count_images('C:/Users/virus/Downloads/CK+/train/')"
   ]
  },
  {
   "cell_type": "code",
   "execution_count": 247,
   "metadata": {},
   "outputs": [
    {
     "data": {
      "text/plain": [
       "439"
      ]
     },
     "execution_count": 247,
     "metadata": {},
     "output_type": "execute_result"
    }
   ],
   "source": [
    "total = 439\n",
    "test = 91\n",
    "train = 348\n",
    "\n",
    "test + train"
   ]
  },
  {
   "cell_type": "markdown",
   "metadata": {},
   "source": [
    "# Split dataset labeled"
   ]
  },
  {
   "cell_type": "code",
   "execution_count": 237,
   "metadata": {},
   "outputs": [],
   "source": [
    "import os\n",
    "import numpy as np\n",
    "import shutil\n",
    "import random\n",
    "\n",
    "\n",
    "# # Creating Train / Val / Test folders (One time use)\n",
    "root_dir = 'C:/Users/virus/Downloads/CK+/filtered/'\n",
    "classes_dir = ['/disgusto', '/enojo', '/felicidad', '/miedo', '/neutral', '/sorpresa', '/tristeza']\n",
    "\n",
    "\n",
    "\n",
    "def split_folder(path):\n",
    "    \n",
    "    if not os.path.isdir(root_dir):\n",
    "        os.makedirs(root_dir)\n",
    "    \n",
    "    for root, dirs, files in os.walk(path, topdown=False):\n",
    "        \n",
    "        if dirs:\n",
    "            \n",
    "            for i, folder in enumerate(dirs, 1):\n",
    "                \n",
    "                images_by_folder = root + '/' + folder\n",
    "                total_images = len(list(os.listdir(images_by_folder)))\n",
    "                   \n",
    "                # get the first image neutral by folder\n",
    "                \n",
    "                \n",
    "                    \n",
    "                \n",
    "                if total_images > 0:\n",
    "                    \n",
    "                    images = os.listdir(images_by_folder)\n",
    "                    \n",
    "                    first_image = images[0]   # neutral\n",
    "                    last_images = images[-1]  # last three emotions corresponds\n",
    "                    if i == 1:\n",
    "                        read_first = root + '/' + folder + '/' + first_image\n",
    "                        save_first = root_dir + '/neutral'\n",
    "                        save_first_image = root_dir + '/neutral' + '/' +first_image\n",
    "\n",
    "                        if not os.path.isdir(save_first):\n",
    "                            os.makedirs(save_first)\n",
    "\n",
    "                        # read and save the first image\n",
    "                        Image.open(read_first).convert('L').save(save_first_image)\n",
    "                    \n",
    "                    ##########################################\n",
    "                    \n",
    "                    \n",
    "                    read_last = root + '/' + folder + '/' + last_images\n",
    "                    save_last = root_dir + folder\n",
    "                    save_last_image = root_dir + folder + '/' + last_images\n",
    "                    \n",
    "                    if not os.path.isdir(save_last):\n",
    "                        os.makedirs(save_last)\n",
    "                        \n",
    "                    # read and save the last image\n",
    "                    Image.open(read_last).convert('L').save(save_last_image)\n",
    "                    \n",
    "        \n",
    "        "
   ]
  },
  {
   "cell_type": "code",
   "execution_count": 239,
   "metadata": {},
   "outputs": [],
   "source": [
    "path_labeled = 'C:/Users/virus/Downloads/CK+/cohn-kanade-images-labeled/'\n",
    "\n",
    "#split_folder(path_labeled)\n"
   ]
  },
  {
   "cell_type": "code",
   "execution_count": null,
   "metadata": {},
   "outputs": [],
   "source": []
  },
  {
   "cell_type": "code",
   "execution_count": null,
   "metadata": {},
   "outputs": [],
   "source": []
  },
  {
   "cell_type": "code",
   "execution_count": null,
   "metadata": {},
   "outputs": [],
   "source": []
  }
 ],
 "metadata": {
  "kernelspec": {
   "display_name": "Python 3",
   "language": "python",
   "name": "python3"
  },
  "language_info": {
   "codemirror_mode": {
    "name": "ipython",
    "version": 3
   },
   "file_extension": ".py",
   "mimetype": "text/x-python",
   "name": "python",
   "nbconvert_exporter": "python",
   "pygments_lexer": "ipython3",
   "version": "3.6.5"
  }
 },
 "nbformat": 4,
 "nbformat_minor": 2
}
