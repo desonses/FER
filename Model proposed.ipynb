{
 "cells": [
  {
   "cell_type": "code",
   "execution_count": null,
   "metadata": {
    "id": "l_g1iUjyqutq"
   },
   "outputs": [],
   "source": [
    "# Import libraries, use Google Colab \n",
    "\n",
    "import tensorflow.compat.v1 as tf\n",
    "tf.disable_v2_behavior()\n",
    "\n",
    "import numpy as np\n",
    "import matplotlib.pyplot as plt\n",
    "%matplotlib inline\n",
    "import os\n",
    "import pathlib\n",
    "import PIL\n",
    "import PIL.Image"
   ]
  },
  {
   "cell_type": "code",
   "execution_count": null,
   "metadata": {
    "id": "Ybrx0vt3JLpT"
   },
   "outputs": [],
   "source": [
    "# use GPU \n",
    "device_name = tf.test.gpu_device_name()\n",
    "if device_name != '/device:GPU:0':\n",
    "    raise SystemError('GPU device not found')\n",
    "print('Found GPU at: {}'.format(device_name))"
   ]
  },
  {
   "cell_type": "code",
   "execution_count": null,
   "metadata": {
    "id": "AIQ2RrWHqzc7"
   },
   "outputs": [],
   "source": [
    "# dir of images train and test\n",
    "# datset is a file .zip\n",
    "\n",
    "images_train = os.path.join(final, 'dataset/train/')\n",
    "images_test = os.path.join(final, 'dataset/test/')\n",
    "\n",
    "train_dir = pathlib.Path(images_train)\n",
    "test_dir = pathlib.Path(images_test)\n",
    "\n",
    "# check if was extrated correctly\n",
    "image_count = len(list(train_dir.glob('anger/*.png')))\n",
    "print(image_count)"
   ]
  },
  {
   "cell_type": "code",
   "execution_count": null,
   "metadata": {
    "id": "kcuprHd4qziV"
   },
   "outputs": [],
   "source": [
    "# show the first image\n",
    "disgusto = list(train_dir.glob('anger/*.png'))\n",
    "PIL.Image.open(str(disgusto[0]))"
   ]
  },
  {
   "cell_type": "code",
   "execution_count": null,
   "metadata": {
    "id": "KQOOAdo-lI--"
   },
   "outputs": [],
   "source": [
    "# show the first image test set\n",
    "disgusto = list(test_dir.glob('anger/*.png'))\n",
    "PIL.Image.open(str(disgusto[0]))"
   ]
  },
  {
   "cell_type": "code",
   "execution_count": null,
   "metadata": {
    "id": "aO_YRGLqqzoN"
   },
   "outputs": [],
   "source": [
    "import cv2\n",
    "\n",
    "# categories from dataset\n",
    "categories = {'anger':0,\n",
    "              'disgust':1,\n",
    "              'fear':2,\n",
    "              'happy':3,\n",
    "              'sadness':4,\n",
    "              'surprise':5\n",
    "              }\n",
    "\n",
    "\n",
    "def get_data(root_path_images):\n",
    "\n",
    "    # lists to store data\n",
    "    data = []\n",
    "    label = []\n",
    "\n",
    "    # folder where data is placed\n",
    "    BASE_FOLDER = root_path_images + '/'\n",
    "    folders = os.listdir(BASE_FOLDER)\n",
    "\n",
    "    \n",
    "    # loading data to lists\n",
    "    for folder in folders:\n",
    "        for file in os.listdir(BASE_FOLDER + folder + '/'):\n",
    "            img = cv2.imread(BASE_FOLDER + folder + '/' + file)\n",
    "            \n",
    "            # do any pre-processing if needed like resize, sharpen etc.\n",
    "            data.append(img)\n",
    "            label.append(categories[folder])\n",
    "    \n",
    "    \n",
    "    return data, label"
   ]
  },
  {
   "cell_type": "code",
   "execution_count": null,
   "metadata": {
    "id": "5Bdv8U4yqzxu"
   },
   "outputs": [],
   "source": [
    "# get dataset end labels\n",
    "X, y = get_data(images_train)\n",
    "\n",
    "print(\"Images of train\\n\")\n",
    "print(\"train_data = {}\\ntest_data = {}\\n\".format(len(X),len(y)))\n",
    "print(\"\\n\\n\")\n"
   ]
  },
  {
   "cell_type": "code",
   "execution_count": null,
   "metadata": {
    "id": "gixspUGa79VF"
   },
   "outputs": [],
   "source": [
    "# images and lables, test data\n",
    "\n",
    "X_testing, y_testing = get_data(images_test)\n",
    "print(\"Images of train\\n\")\n",
    "print(\"train_data = {}\\ntest_data = {}\\n\".format(len(X_testing),len(y_testing)))\n",
    "print(\"\\n\\n\")\n",
    "              \n"
   ]
  },
  {
   "cell_type": "code",
   "execution_count": null,
   "metadata": {
    "id": "c4wtQ6_etrUh"
   },
   "outputs": [],
   "source": [
    "# reshape the dim(32,32,3) -> (32,32,1)\n",
    "\n",
    "def rgb2gray(rgb, reshape=None):\n",
    "    return np.dot(rgb[...,:3], [0.299, 0.587, 0.144])\n",
    "\n",
    "def resized_RGB_to_Grayscale(X):\n",
    "    \n",
    "    X_ = []\n",
    "    for image in X:\n",
    "        gray = rgb2gray(image)\n",
    "        gray = gray.reshape((32,32,1))\n",
    "        X_.append(gray)\n",
    "\n",
    "    return X_\n",
    "\n",
    "\n",
    "# reshape all dataset\n",
    "X_reshaped = resized_RGB_to_Grayscale(X)"
   ]
  },
  {
   "cell_type": "code",
   "execution_count": null,
   "metadata": {
    "id": "ZQ8I0sSZtM8b"
   },
   "outputs": [],
   "source": [
    "from keras.utils import to_categorical\n",
    "from sklearn.model_selection import train_test_split\n",
    "\n",
    "\n",
    "NUM_CLASSES = 6\n",
    "TEST_SIZE = 0.1\n",
    "\n",
    "X_train, X_test, y_train, y_test = train_test_split(X_reshaped, y,\n",
    "                                                    test_size=TEST_SIZE,\n",
    "                                                    random_state=44000)\n",
    "\n",
    "X_train = np.asarray(X_train, dtype=np.float32)\n",
    "X_test = np.asarray(X_test, dtype=np.float32)\n",
    "\n",
    "\n",
    "# convert class labels to one-hot encoded, should have shape (?, NUM_CLASSES)\n",
    "y_train = np.asarray(to_categorical(y_train, NUM_CLASSES), dtype=np.float32)\n",
    "y_test = np.asarray(to_categorical(y_test, NUM_CLASSES), dtype=np.float32)\n",
    "\n",
    "\n",
    "\n"
   ]
  },
  {
   "cell_type": "code",
   "execution_count": null,
   "metadata": {
    "id": "D4GBBXKLuGla"
   },
   "outputs": [],
   "source": [
    "print(\"Train samples:\\nX = {}\\ny = {}\".format(X_train.shape, y_train.shape))\n",
    "print(\"\\nTest samples:\\nX = {}\\ny = {}\".format(X_test.shape, y_test.shape))"
   ]
  },
  {
   "cell_type": "markdown",
   "metadata": {
    "id": "tyNwgLDTQ8L2"
   },
   "source": [
    "# **Show images**"
   ]
  },
  {
   "cell_type": "code",
   "execution_count": null,
   "metadata": {
    "id": "evcf8-uzqzJs"
   },
   "outputs": [],
   "source": [
    "# show random images from test\n",
    "def show_images(images, labels):\n",
    "    cols = 8\n",
    "    rows = 2\n",
    "    fig = plt.figure(figsize=(2 * cols - 1, 2.5 * rows - 1))\n",
    "\n",
    "    for i in range(cols):\n",
    "        for j in range(rows):\n",
    "            \n",
    "            random_index = np.random.randint(0, len(images))\n",
    "            ax = fig.add_subplot(rows, cols, i * rows + j + 1)\n",
    "            ax.grid('off')\n",
    "            ax.axis('off')\n",
    "            ax.imshow(images[random_index])\n",
    "            \n",
    "            cat = list(categories.keys())\n",
    "            val = labels[random_index]\n",
    "            ax.set_title(cat[val])\n",
    "\n",
    "    plt.show()"
   ]
  },
  {
   "cell_type": "code",
   "execution_count": null,
   "metadata": {
    "id": "Wf2oIsKLrt-B"
   },
   "outputs": [],
   "source": [
    "# show random images train\n",
    "\n",
    "show_images(X, y)"
   ]
  },
  {
   "cell_type": "code",
   "execution_count": null,
   "metadata": {
    "id": "y5207YJwrvWS"
   },
   "outputs": [],
   "source": [
    "from keras import backend as K\n",
    "import keras\n",
    "\n",
    "# save the accuracy per epoch and val_accuracy, callback\n",
    "class AccuracyHistory(keras.callbacks.Callback):\n",
    "    def on_train_begin(self, logs={}):\n",
    "        self.acc = []\n",
    "        self.val_acc = []\n",
    "\n",
    "    def on_epoch_end(self, batch, logs={}):\n",
    "        self.acc.append(logs.get('acc'))\n",
    "        self.val_acc.append(logs.get('val_acc'))"
   ]
  },
  {
   "cell_type": "markdown",
   "metadata": {
    "id": "iHwJdQBRQ25k"
   },
   "source": [
    "# **Generating the model**"
   ]
  },
  {
   "cell_type": "markdown",
   "metadata": {
    "id": "yZ0q7FNJR0cz"
   },
   "source": [
    "![Captura.PNG](data:image/png;base64,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)"
   ]
  },
  {
   "cell_type": "code",
   "execution_count": null,
   "metadata": {
    "id": "8oBoBX9tRjMq"
   },
   "outputs": [],
   "source": [
    "# generating the model\n",
    "import tensorflow as tf\n",
    "from keras import layers\n",
    "from keras import models\n",
    "from keras import initializers\n",
    " \n",
    "\n",
    "def cnn_model():\n",
    "\n",
    "    # define a sequential model\n",
    "    model = models.Sequential()\n",
    "    initializer = tf.initializers.GlorotUniform()\n",
    "\n",
    "    # 1st conv layer\n",
    "    model.add(layers.Conv2D(32, (5, 5),\n",
    "                            activation='relu',\n",
    "                            kernel_initializer = initializer,\n",
    "                            input_shape=(32, 32, 1)))\n",
    "    \n",
    "    # 1st maxpooling layer\n",
    "    model.add(layers.MaxPooling2D(pool_size=(2, 2),\n",
    "                                  strides=2))\n",
    "    \n",
    "    \n",
    "    \n",
    "\n",
    "    # 2nd conv layer\n",
    "    model.add(layers.Conv2D(64, (5, 5),\n",
    "                            activation='relu',\n",
    "                            kernel_initializer = initializer))\n",
    "    \n",
    "    # 2nd maxpooling layer\n",
    "    model.add(layers.MaxPooling2D(pool_size=(2, 2),\n",
    "                                  strides=2))\n",
    "    ##dropout\n",
    "    model.add(layers.Dropout(0.5))\n",
    "    \n",
    "\n",
    "    model.add(layers.Flatten())\n",
    "\n",
    "    \n",
    "    # layer out\n",
    "    model.add(layers.Dense(NUM_CLASSES,\n",
    "                           activation='softmax'))\n",
    "\n",
    "    return model\n",
    "\n"
   ]
  },
  {
   "cell_type": "code",
   "execution_count": null,
   "metadata": {
    "id": "h5rP1nafrvNv"
   },
   "outputs": [],
   "source": [
    "# red, 61,702\n",
    "model = cnn_model()\n",
    "model.summary()"
   ]
  },
  {
   "cell_type": "markdown",
   "metadata": {
    "id": "uwXpkOhfRCTH"
   },
   "source": [
    "# K-fold [cross-validation](https://scikit-learn.org/stable/modules/cross_validation.html)\n",
    "\n",
    "\n"
   ]
  },
  {
   "cell_type": "code",
   "execution_count": null,
   "metadata": {
    "id": "91iLPw841ppj"
   },
   "outputs": [],
   "source": [
    "from sklearn.model_selection import KFold\n",
    "\n",
    "# k-folds\n",
    "num_folds = 10\n",
    "\n",
    "\n",
    "# Merge inputs and targets\n",
    "inputs = np.concatenate((X_train, X_test), axis=0)\n",
    "targets = np.concatenate((y_train, y_test), axis=0)\n",
    "\n",
    "# Define the K-fold Cross Validator\n",
    "kfold = KFold(n_splits=num_folds, shuffle=True)"
   ]
  },
  {
   "cell_type": "code",
   "execution_count": null,
   "metadata": {
    "id": "Ec7Z9QOmebjw"
   },
   "outputs": [],
   "source": [
    "len(inputs)"
   ]
  },
  {
   "cell_type": "code",
   "execution_count": null,
   "metadata": {
    "id": "7UukLc1ENSDL"
   },
   "outputs": [],
   "source": [
    "import matplotlib.pyplot as plt\n",
    "\n",
    "# plot the metrics during training, callbacks\n",
    "def plot_metrics(train_log):\n",
    "\n",
    "    plt.plot(train_log.history['acc'])\n",
    "    plt.ylabel('accuracy')\n",
    "    plt.xlabel('epoch')\n",
    "    plt.legend(['train'], loc='upper left')\n",
    "    plt.show()\n",
    "\n",
    "\n",
    "def plot_acc(train_log):\n",
    "     \n",
    "    acc = train_log.history['acc']\n",
    "    loss = train_log.history['loss']\n",
    "\n",
    "    epochs = range(1, len(acc) + 1)\n",
    "    plt.plot(epochs, acc, 'r', label='Training acc')\n",
    "\n",
    "    plt.legend()\n",
    "    plt.figure()\n",
    "\n",
    "    plt.show()\n",
    "\n"
   ]
  },
  {
   "cell_type": "markdown",
   "metadata": {
    "id": "LXLogykz2KZn"
   },
   "source": [
    "#  [**Data Augmentation**](https://www.tensorflow.org/tutorials/images/data_augmentation)"
   ]
  },
  {
   "cell_type": "code",
   "execution_count": null,
   "metadata": {
    "id": "ROYPg_Uh2Oon"
   },
   "outputs": [],
   "source": [
    "from keras.preprocessing.image import ImageDataGenerator\n",
    "\n",
    "\n",
    "def data_aug(X_train, X_test, train_batch_size):\n",
    "\n",
    "    train_datagen = ImageDataGenerator(\n",
    "        rotation_range=2,\n",
    "        horizontal_flip=True)\n",
    "    \n",
    "    \n",
    "    train_batch = train_datagen.flow(X_train, y_train, batch_size=train_batch_size)\n",
    "    \n",
    "    \n",
    "    return train_batch\n",
    "\n",
    "\n"
   ]
  },
  {
   "cell_type": "markdown",
   "metadata": {
    "id": "DOlau9qaRI3f"
   },
   "source": [
    "# **Train the dataset applying ten-fold and data augmentation during training**"
   ]
  },
  {
   "cell_type": "code",
   "execution_count": null,
   "metadata": {
    "id": "n38aBLLZpcNg"
   },
   "outputs": [],
   "source": [
    "from __future__ import absolute_import\n",
    "from __future__ import division\n",
    "from __future__ import print_function\n",
    "\n",
    "from tensorflow.python.framework import ops\n",
    "from tensorflow.python.ops import math_ops\n",
    "from tensorflow.python.training import optimizer\n",
    "from tensorflow.python.training import training_ops\n",
    "from tensorflow.python.util.tf_export import tf_export\n",
    "\n",
    "\n",
    "@tf_export(v1=[\"train.MomentumOptimizer\"])\n",
    "class MomentumOptimizer(optimizer.Optimizer):\n",
    "\n",
    "    \"\"\"Optimizer that implements the Momentum algorithm.\n",
    "  Computes (if `use_nesterov = False`):\n",
    "  ```\n",
    "  accumulation = momentum * accumulation + gradient\n",
    "  variable -= learning_rate * accumulation\n",
    "  ```\n",
    "  Note that in the dense version of this algorithm, `accumulation` is updated\n",
    "  and applied regardless of a gradient's value, whereas the sparse version (when\n",
    "  the gradient is an `IndexedSlices`, typically because of `tf.gather` or an\n",
    "  embedding) only updates variable slices and corresponding `accumulation` terms\n",
    "  when that part of the variable was used in the forward pass.\n",
    "  \"\"\"\n",
    "\n",
    "    def __init__(self, learning_rate, momentum,\n",
    "               use_locking=False, name=\"Momentum\", use_nesterov=False):\n",
    "    \"\"\"Construct a new Momentum optimizer.\n",
    "    Args:\n",
    "      learning_rate: A `Tensor` or a floating point value.  The learning rate.\n",
    "      momentum: A `Tensor` or a floating point value.  The momentum.\n",
    "      use_locking: If `True` use locks for update operations.\n",
    "      name: Optional name prefix for the operations created when applying\n",
    "        gradients.  Defaults to \"Momentum\".\n",
    "      use_nesterov: If `True` use Nesterov Momentum.\n",
    "        See (Sutskever et al., 2013).\n",
    "        This implementation always computes gradients at the value of the\n",
    "        variable(s) passed to the optimizer. Using Nesterov Momentum makes the\n",
    "        variable(s) track the values called `theta_t + mu*v_t` in the paper.\n",
    "        This implementation is an approximation of the original formula, valid\n",
    "        for high values of momentum. It will compute the \"adjusted gradient\"\n",
    "        in NAG by assuming that the new gradient will be estimated by the\n",
    "        current average gradient plus the product of momentum and the change\n",
    "        in the average gradient.\n",
    "    References:\n",
    "      On the importance of initialization and momentum in deep learning:\n",
    "        [Sutskever et al., 2013]\n",
    "        (http://proceedings.mlr.press/v28/sutskever13.html)\n",
    "        ([pdf](http://proceedings.mlr.press/v28/sutskever13.pdf))\n",
    "    @compatibility(eager)\n",
    "    When eager execution is enabled, `learning_rate` and `momentum` can each be\n",
    "    a callable that takes no arguments and returns the actual value to use. This\n",
    "    can be useful for changing these values across different invocations of\n",
    "    optimizer functions.\n",
    "    @end_compatibility\n",
    "    \"\"\"\n",
    "    super(MomentumOptimizer, self).__init__(use_locking, name)\n",
    "    self._learning_rate = learning_rate\n",
    "    self._momentum = momentum\n",
    "    self._use_nesterov = use_nesterov\n",
    "\n",
    "    def _create_slots(self, var_list):\n",
    "        for v in var_list:\n",
    "            self._zeros_slot(v, \"momentum\", self._name)\n",
    "\n",
    "    def _prepare(self):\n",
    "    learning_rate = self._learning_rate\n",
    "    if callable(learning_rate):\n",
    "        learning_rate = learning_rate()\n",
    "    self._learning_rate_tensor = ops.convert_to_tensor(learning_rate,\n",
    "                                                       name=\"learning_rate\")\n",
    "    momentum = self._momentum\n",
    "    if callable(momentum):\n",
    "        momentum = momentum()\n",
    "    self._momentum_tensor = ops.convert_to_tensor(momentum, name=\"momentum\")\n",
    "\n",
    "    def _apply_dense(self, grad, var):\n",
    "    mom = self.get_slot(var, \"momentum\")\n",
    "    return training_ops.apply_momentum(\n",
    "        var, mom,\n",
    "        math_ops.cast(self._learning_rate_tensor, var.dtype.base_dtype),\n",
    "        grad,\n",
    "        math_ops.cast(self._momentum_tensor, var.dtype.base_dtype),\n",
    "        use_locking=self._use_locking,\n",
    "        use_nesterov=self._use_nesterov).op\n",
    "\n",
    "    def _resource_apply_dense(self, grad, var):\n",
    "        mom = self.get_slot(var, \"momentum\")\n",
    "        return training_ops.resource_apply_momentum(\n",
    "            var.handle, mom.handle,\n",
    "            math_ops.cast(self._learning_rate_tensor, grad.dtype.base_dtype),\n",
    "            grad,\n",
    "            math_ops.cast(self._momentum_tensor, grad.dtype.base_dtype),\n",
    "            use_locking=self._use_locking,\n",
    "            use_nesterov=self._use_nesterov)\n",
    "\n",
    "    def _apply_sparse(self, grad, var):\n",
    "        mom = self.get_slot(var, \"momentum\")\n",
    "        return training_ops.sparse_apply_momentum(\n",
    "            var, mom,\n",
    "            math_ops.cast(self._learning_rate_tensor, var.dtype.base_dtype),\n",
    "            grad.values, grad.indices,\n",
    "            math_ops.cast(self._momentum_tensor, var.dtype.base_dtype),\n",
    "            use_locking=self._use_locking,\n",
    "            use_nesterov=self._use_nesterov).op\n",
    "\n",
    "    def _resource_apply_sparse(self, grad, var, indices):\n",
    "        mom = self.get_slot(var, \"momentum\")\n",
    "        return training_ops.resource_sparse_apply_momentum(\n",
    "            var.handle, mom.handle,\n",
    "            math_ops.cast(self._learning_rate_tensor, grad.dtype),\n",
    "            grad, indices,\n",
    "            math_ops.cast(self._momentum_tensor, grad.dtype),\n",
    "            use_locking=self._use_locking,\n",
    "            use_nesterov=self._use_nesterov)\n",
    "\n",
    "    "
   ]
  },
  {
   "cell_type": "code",
   "execution_count": null,
   "metadata": {
    "id": "gSVhMfmdrvHk"
   },
   "outputs": [],
   "source": [
    "from keras import optimizers\n",
    "\n",
    "\n",
    "NO_EPOCHS = 120\n",
    "BATCH_SIZE = 16\n",
    "NUM_FOLDS = 10\n",
    "INIT_LR = 1e-3\n",
    "\n",
    "\n",
    " # define per-fold score containers\n",
    "ACC_PER_FOLD = []\n",
    "LOSS_PER_FOLD = []\n",
    "\n",
    "\n",
    "# actual fold\n",
    "fold_no = 1\n",
    "\n",
    "for train, test in kfold.split(inputs, targets):\n",
    "\n",
    "    tf.keras.backend.clear_session()\n",
    "\n",
    "    # generate a new model\n",
    "    network = cnn_model()\n",
    "\n",
    "    history = AccuracyHistory()\n",
    "\n",
    "    # compile model    \n",
    "    optimizer = MomentumOptimizer(learning_rate=INIT_LR, momentum=0.9, use_nesterov=True)\n",
    "    network.compile(loss='categorical_crossentropy', \n",
    "                    optimizer=optimizer,\n",
    "                    metrics=['acc'])\n",
    "\n",
    "    print('-*'*70)\n",
    "    print(f'==> Training for fold {fold_no}/{NUM_FOLDS} <==')\n",
    "    \n",
    "\n",
    "    # save the weights per fold\n",
    "    checkpoint_path = 'your_path/' + \"model_weights_\" + str(fold_no) + '.h5'\n",
    "\n",
    "    checkpointer = tf.keras.callbacks.ModelCheckpoint(filepath=checkpoint_path,\n",
    "                                                      save_weights_only=True,\n",
    "                                                      verbose=1)\n",
    "\n",
    "    #data augmentation during training\n",
    "    datagen = ImageDataGenerator(\n",
    "        rotation_range=2,\n",
    "        horizontal_flip=True)\n",
    "\n",
    "\n",
    "    X_train = inputs[train]\n",
    "    y_train = targets[train]\n",
    "\n",
    "    X_val = inputs[test]\n",
    "    y_val = targets[test]\n",
    "\n",
    "    # fit data to model\n",
    "    with tf.device('/device:GPU:0'):\n",
    "\n",
    "        traing_log = network.fit(datagen.flow(X_train, y_train, batch_size=BATCH_SIZE),\n",
    "                                 validation_data=(X_val, y_val),\n",
    "                                 shuffle=True,\n",
    "                                 epochs=NO_EPOCHS,\n",
    "                                 callbacks=[history])# add 'checkpointer' to save the weights\n",
    "        \n",
    "\n",
    "    # plot the metrics\n",
    "    plot_metrics(traing_log)\n",
    "\n",
    "    # Generate generalization metrics\n",
    "    scores = network.evaluate(X_val, y_val, verbose=0)\n",
    "    print(f'\\n*** Score for fold {fold_no}: {network.metrics_names[0]} of {scores[0]}; {network.metrics_names[1]} of {scores[1]*100}%')\n",
    "    ACC_PER_FOLD.append(scores[1] * 100)\n",
    "    LOSS_PER_FOLD.append(scores[0])\n",
    "    print(\"\\n\")\n",
    "\n",
    "    fold_no += 1\n",
    "    \n",
    "    \n",
    "\n"
   ]
  },
  {
   "cell_type": "code",
   "execution_count": null,
   "metadata": {
    "id": "hxwzmIA12kMI"
   },
   "outputs": [],
   "source": [
    "# == Provide average scores ==\n",
    "print('------------------------------------------------------------------------')\n",
    "print('Score per fold')\n",
    "\n",
    "for i in range(0, len(ACC_PER_FOLD)):\n",
    "    print('------------------------------------------------------------------------')\n",
    "    print(f'> Fold {i+1} - Loss: {LOSS_PER_FOLD[i]} - Accuracy: {ACC_PER_FOLD[i]}%')\n",
    "\n",
    "print('------------------------------------------------------------------------')\n",
    "print('Average scores for all folds:')\n",
    "print(f'> Accuracy: {np.mean(ACC_PER_FOLD)} (+- {np.std(ACC_PER_FOLD)})')\n",
    "print(f'> Loss: {np.mean(LOSS_PER_FOLD)}')\n",
    "print('------------------------------------------------------------------------')\n"
   ]
  },
  {
   "cell_type": "markdown",
   "metadata": {
    "id": "GxlE7bEsJOfH"
   },
   "source": [
    "**Load and test the model**"
   ]
  },
  {
   "cell_type": "code",
   "execution_count": null,
   "metadata": {
    "id": "DxtJnG0VIADz"
   },
   "outputs": [],
   "source": [
    "from keras.utils import to_categorical\n",
    "\n",
    "NUM_CLASSES = 6\n",
    "\n",
    "images_test = resized_RGB_to_Grayscale(X_testing)\n",
    "images_test = np.asarray(images_test, dtype=np.float32)\n",
    "\n",
    "labels_test = np.asarray(to_categorical(y_testing, NUM_CLASSES), dtype=np.float32)"
   ]
  },
  {
   "cell_type": "code",
   "execution_count": null,
   "metadata": {
    "id": "bwB1QvlSNKnw"
   },
   "outputs": [],
   "source": [
    "(labels_test.shape, images_test.shape)"
   ]
  },
  {
   "cell_type": "code",
   "execution_count": null,
   "metadata": {
    "id": "hKryWk1M8_vP"
   },
   "outputs": [],
   "source": [
    "# weights\n",
    "\n",
    "from sklearn.metrics import classification_report\n",
    "\n",
    "\n",
    "best = 0\n",
    "fold = 0\n",
    "\n",
    "for i in range(1,11):\n",
    "    weights = \"your_path/model_weights_\" + str(i) + \".h5\"\n",
    "    # Create a new model instance\n",
    "    model = cnn_model()\n",
    "\n",
    "    optimizer = MomentumOptimizer(learning_rate=0.001, momentum=0.9, use_nesterov=True)\n",
    "    model.compile(loss='categorical_crossentropy', \n",
    "                    optimizer=optimizer,\n",
    "                    metrics=['acc'])\n",
    "\n",
    "\n",
    "    # Restore the weights\n",
    "    model.load_weights(weights)\n",
    "    \n",
    "\n",
    "    # Evaluate the model\n",
    "    loss, acc = model.evaluate(images_test, labels_test, verbose=2)\n",
    "    value = 100 * acc\n",
    "    pred = model.predict(images_test, verbose=2)\n",
    "    predicted = np.argmax(pred, axis=1)\n",
    "    report = classification_report(np.argmax(labels_test, axis=1), predicted)\n",
    "    \n",
    "    print(report)\n",
    "    print(\"Fold {}, Restored model, accuracy: {:5.2f}%\".format(i, value))\n",
    "    \n",
    "    if value > best:\n",
    "        best = value\n",
    "        fold = i\n",
    "    print(\"---\"*30)\n",
    "\n",
    "print(\"the best fold {} result is {}\".format(fold, best))\n",
    "\n",
    "\n"
   ]
  },
  {
   "cell_type": "code",
   "execution_count": null,
   "metadata": {
    "id": "LcG-aIeyNLlI"
   },
   "outputs": [],
   "source": []
  },
  {
   "cell_type": "code",
   "execution_count": null,
   "metadata": {
    "id": "dcwGRh9bNLeg"
   },
   "outputs": [],
   "source": []
  }
 ],
 "metadata": {
  "accelerator": "GPU",
  "colab": {
   "authorship_tag": "ABX9TyNZAjF94oc2YCeLw5kIfj8C",
   "collapsed_sections": [],
   "mount_file_id": "1z_Q_NQhjkvctxacJtflwFtHQ6qbyTtFN",
   "name": "Model proposed.ipynb",
   "private_outputs": true,
   "provenance": [],
   "toc_visible": true
  },
  "kernelspec": {
   "display_name": "Python 3",
   "language": "python",
   "name": "python3"
  },
  "language_info": {
   "codemirror_mode": {
    "name": "ipython",
    "version": 3
   },
   "file_extension": ".py",
   "mimetype": "text/x-python",
   "name": "python",
   "nbconvert_exporter": "python",
   "pygments_lexer": "ipython3",
   "version": "3.6.5"
  }
 },
 "nbformat": 4,
 "nbformat_minor": 1
}
